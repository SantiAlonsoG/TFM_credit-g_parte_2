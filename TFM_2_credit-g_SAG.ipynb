{
 "cells": [
  {
   "cell_type": "markdown",
   "id": "1f12ee30",
   "metadata": {},
   "source": [
    "## <div style=\"text-align: center\"> TFM - Parte 2 </div>\n",
    "<div style=\"text-align: left\"><b>Autor</b>: Santiago Alonso Gutiérrez </div>\n",
    "<div style=\"text-align: left\"><b>Propuesta elegida</b>: 2 (Préstamos) </div>\n",
    "<div style=\"text-align: left\"><b>Conjunto de datos</b>: OpenML/credit-g </div>\n",
    "<div style=\"text-align: left\"><b>URL</b>: https://www.openml.org/d/31 </div>\n",
    "<div style=\"text-align: left\"><b>Descripción</b>: Base de datos de clasificación de personas según su riesgo para conceder un préstamo. Tiene 1000 instancias y 20 variables descriptivas que son indicadores del estado económico de la persona. La mayoría de los atributos son nominales. La última variable, la vigésimo primera, indica la clase (good o bad). El error cometido al clasificar un cliente malo como bueno es más grave que el cometido al clasificar uno bueno como malo.</div>\n",
    "<div style=\"text-align: left\"><b>Modelos a usar</b>: SVM, MLP y Boosting</div>"
   ]
  },
  {
   "cell_type": "markdown",
   "id": "c15eca54-6fdd-47bd-9843-d62cd95ec02b",
   "metadata": {},
   "source": [
    "# Importamos los paquetes necesarios"
   ]
  },
  {
   "cell_type": "code",
   "execution_count": 1,
   "id": "2feaaccb",
   "metadata": {},
   "outputs": [],
   "source": [
    "import numpy as np\n",
    "import pandas as pd\n",
    "import matplotlib.pyplot as plt\n",
    "import seaborn as sns\n",
    "import os\n",
    "from pprint import pprint\n",
    "\n",
    "from sklearn.model_selection import train_test_split\n",
    "from sklearn.preprocessing import LabelEncoder  \n",
    "from sklearn.model_selection import cross_val_score\n",
    "from sklearn.model_selection import ShuffleSplit\n",
    "from sklearn.neural_network import MLPClassifier\n",
    "from sklearn.ensemble import AdaBoostClassifier\n",
    "from sklearn.metrics import f1_score\n",
    "from sklearn.metrics import roc_auc_score\n",
    "from sklearn.metrics import confusion_matrix\n",
    "from sklearn.decomposition import PCA\n",
    "\n",
    "import sklearn.preprocessing\n",
    "from sklearn.svm import SVC\n",
    "import scipy.stats as stats"
   ]
  },
  {
   "cell_type": "markdown",
   "id": "1496972d-3ae1-4234-ae4a-4777b4637e7f",
   "metadata": {},
   "source": [
    "# Desactivamos los warnings "
   ]
  },
  {
   "cell_type": "code",
   "execution_count": 2,
   "id": "37416954-51fc-456c-904d-a37503bceb40",
   "metadata": {},
   "outputs": [],
   "source": [
    "import warnings\n",
    "warnings.filterwarnings(\"ignore\")"
   ]
  },
  {
   "cell_type": "markdown",
   "id": "4251a817-48f0-4cbf-a9f3-7fb3d1964454",
   "metadata": {},
   "source": [
    "# Cargando el conjunto de datos"
   ]
  },
  {
   "cell_type": "markdown",
   "id": "b5fc727e",
   "metadata": {},
   "source": [
    "Empezamos definiendo los path con los que vamos a trabajar:"
   ]
  },
  {
   "cell_type": "code",
   "execution_count": 3,
   "id": "ed732052",
   "metadata": {},
   "outputs": [],
   "source": [
    "ROOT_DIR = os.path.abspath(\"\")\n",
    "DATA_DIR = os.path.join(ROOT_DIR, \"data\")"
   ]
  },
  {
   "cell_type": "markdown",
   "id": "42421e7b",
   "metadata": {},
   "source": [
    "Con esto, cargamos el conjunto de datos accediendo a la URL de la base de datos."
   ]
  },
  {
   "cell_type": "code",
   "execution_count": 4,
   "id": "0a6ab7a5",
   "metadata": {},
   "outputs": [
    {
     "data": {
      "text/html": [
       "<div>\n",
       "<style scoped>\n",
       "    .dataframe tbody tr th:only-of-type {\n",
       "        vertical-align: middle;\n",
       "    }\n",
       "\n",
       "    .dataframe tbody tr th {\n",
       "        vertical-align: top;\n",
       "    }\n",
       "\n",
       "    .dataframe thead th {\n",
       "        text-align: right;\n",
       "    }\n",
       "</style>\n",
       "<table border=\"1\" class=\"dataframe\">\n",
       "  <thead>\n",
       "    <tr style=\"text-align: right;\">\n",
       "      <th></th>\n",
       "      <th>checking_status</th>\n",
       "      <th>duration</th>\n",
       "      <th>credit_history</th>\n",
       "      <th>purpose</th>\n",
       "      <th>credit_amount</th>\n",
       "      <th>savings_status</th>\n",
       "      <th>employment</th>\n",
       "      <th>installment_commitment</th>\n",
       "      <th>personal_status</th>\n",
       "      <th>other_parties</th>\n",
       "      <th>...</th>\n",
       "      <th>property_magnitude</th>\n",
       "      <th>age</th>\n",
       "      <th>other_payment_plans</th>\n",
       "      <th>housing</th>\n",
       "      <th>existing_credits</th>\n",
       "      <th>job</th>\n",
       "      <th>num_dependents</th>\n",
       "      <th>own_telephone</th>\n",
       "      <th>foreign_worker</th>\n",
       "      <th>class</th>\n",
       "    </tr>\n",
       "  </thead>\n",
       "  <tbody>\n",
       "    <tr>\n",
       "      <th>0</th>\n",
       "      <td>'&lt;0'</td>\n",
       "      <td>6</td>\n",
       "      <td>'critical/other existing credit'</td>\n",
       "      <td>radio/tv</td>\n",
       "      <td>1169</td>\n",
       "      <td>'no known savings'</td>\n",
       "      <td>'&gt;=7'</td>\n",
       "      <td>4</td>\n",
       "      <td>'male single'</td>\n",
       "      <td>none</td>\n",
       "      <td>...</td>\n",
       "      <td>'real estate'</td>\n",
       "      <td>67</td>\n",
       "      <td>none</td>\n",
       "      <td>own</td>\n",
       "      <td>2</td>\n",
       "      <td>skilled</td>\n",
       "      <td>1</td>\n",
       "      <td>yes</td>\n",
       "      <td>yes</td>\n",
       "      <td>good</td>\n",
       "    </tr>\n",
       "    <tr>\n",
       "      <th>1</th>\n",
       "      <td>'0&lt;=X&lt;200'</td>\n",
       "      <td>48</td>\n",
       "      <td>'existing paid'</td>\n",
       "      <td>radio/tv</td>\n",
       "      <td>5951</td>\n",
       "      <td>'&lt;100'</td>\n",
       "      <td>'1&lt;=X&lt;4'</td>\n",
       "      <td>2</td>\n",
       "      <td>'female div/dep/mar'</td>\n",
       "      <td>none</td>\n",
       "      <td>...</td>\n",
       "      <td>'real estate'</td>\n",
       "      <td>22</td>\n",
       "      <td>none</td>\n",
       "      <td>own</td>\n",
       "      <td>1</td>\n",
       "      <td>skilled</td>\n",
       "      <td>1</td>\n",
       "      <td>none</td>\n",
       "      <td>yes</td>\n",
       "      <td>bad</td>\n",
       "    </tr>\n",
       "    <tr>\n",
       "      <th>2</th>\n",
       "      <td>'no checking'</td>\n",
       "      <td>12</td>\n",
       "      <td>'critical/other existing credit'</td>\n",
       "      <td>education</td>\n",
       "      <td>2096</td>\n",
       "      <td>'&lt;100'</td>\n",
       "      <td>'4&lt;=X&lt;7'</td>\n",
       "      <td>2</td>\n",
       "      <td>'male single'</td>\n",
       "      <td>none</td>\n",
       "      <td>...</td>\n",
       "      <td>'real estate'</td>\n",
       "      <td>49</td>\n",
       "      <td>none</td>\n",
       "      <td>own</td>\n",
       "      <td>1</td>\n",
       "      <td>'unskilled resident'</td>\n",
       "      <td>2</td>\n",
       "      <td>none</td>\n",
       "      <td>yes</td>\n",
       "      <td>good</td>\n",
       "    </tr>\n",
       "    <tr>\n",
       "      <th>3</th>\n",
       "      <td>'&lt;0'</td>\n",
       "      <td>42</td>\n",
       "      <td>'existing paid'</td>\n",
       "      <td>furniture/equipment</td>\n",
       "      <td>7882</td>\n",
       "      <td>'&lt;100'</td>\n",
       "      <td>'4&lt;=X&lt;7'</td>\n",
       "      <td>2</td>\n",
       "      <td>'male single'</td>\n",
       "      <td>guarantor</td>\n",
       "      <td>...</td>\n",
       "      <td>'life insurance'</td>\n",
       "      <td>45</td>\n",
       "      <td>none</td>\n",
       "      <td>'for free'</td>\n",
       "      <td>1</td>\n",
       "      <td>skilled</td>\n",
       "      <td>2</td>\n",
       "      <td>none</td>\n",
       "      <td>yes</td>\n",
       "      <td>good</td>\n",
       "    </tr>\n",
       "    <tr>\n",
       "      <th>4</th>\n",
       "      <td>'&lt;0'</td>\n",
       "      <td>24</td>\n",
       "      <td>'delayed previously'</td>\n",
       "      <td>'new car'</td>\n",
       "      <td>4870</td>\n",
       "      <td>'&lt;100'</td>\n",
       "      <td>'1&lt;=X&lt;4'</td>\n",
       "      <td>3</td>\n",
       "      <td>'male single'</td>\n",
       "      <td>none</td>\n",
       "      <td>...</td>\n",
       "      <td>'no known property'</td>\n",
       "      <td>53</td>\n",
       "      <td>none</td>\n",
       "      <td>'for free'</td>\n",
       "      <td>2</td>\n",
       "      <td>skilled</td>\n",
       "      <td>2</td>\n",
       "      <td>none</td>\n",
       "      <td>yes</td>\n",
       "      <td>bad</td>\n",
       "    </tr>\n",
       "  </tbody>\n",
       "</table>\n",
       "<p>5 rows × 21 columns</p>\n",
       "</div>"
      ],
      "text/plain": [
       "  checking_status  duration                    credit_history  \\\n",
       "0            '<0'         6  'critical/other existing credit'   \n",
       "1      '0<=X<200'        48                   'existing paid'   \n",
       "2   'no checking'        12  'critical/other existing credit'   \n",
       "3            '<0'        42                   'existing paid'   \n",
       "4            '<0'        24              'delayed previously'   \n",
       "\n",
       "               purpose  credit_amount      savings_status employment  \\\n",
       "0             radio/tv           1169  'no known savings'      '>=7'   \n",
       "1             radio/tv           5951              '<100'   '1<=X<4'   \n",
       "2            education           2096              '<100'   '4<=X<7'   \n",
       "3  furniture/equipment           7882              '<100'   '4<=X<7'   \n",
       "4            'new car'           4870              '<100'   '1<=X<4'   \n",
       "\n",
       "   installment_commitment       personal_status other_parties  ...  \\\n",
       "0                       4         'male single'          none  ...   \n",
       "1                       2  'female div/dep/mar'          none  ...   \n",
       "2                       2         'male single'          none  ...   \n",
       "3                       2         'male single'     guarantor  ...   \n",
       "4                       3         'male single'          none  ...   \n",
       "\n",
       "    property_magnitude age  other_payment_plans     housing existing_credits  \\\n",
       "0        'real estate'  67                 none         own                2   \n",
       "1        'real estate'  22                 none         own                1   \n",
       "2        'real estate'  49                 none         own                1   \n",
       "3     'life insurance'  45                 none  'for free'                1   \n",
       "4  'no known property'  53                 none  'for free'                2   \n",
       "\n",
       "                    job num_dependents  own_telephone foreign_worker class  \n",
       "0               skilled              1            yes            yes  good  \n",
       "1               skilled              1           none            yes   bad  \n",
       "2  'unskilled resident'              2           none            yes  good  \n",
       "3               skilled              2           none            yes  good  \n",
       "4               skilled              2           none            yes   bad  \n",
       "\n",
       "[5 rows x 21 columns]"
      ]
     },
     "execution_count": 4,
     "metadata": {},
     "output_type": "execute_result"
    }
   ],
   "source": [
    "# Tras acceder a https://www.openml.org/d/31 desde Google Chrome, pulsamos F12 e inspeccionamos el elemento del icono CSV,\n",
    "# obteniendo la URL de descarga directa del fichero, la cual guardaremos en la constante CREDITBASE_URL para su posterior uso:\n",
    "CREDITBASE_URL = \"https://www.openml.org/data/get_csv/31/dataset_31_credit-g.arff\"\n",
    "\n",
    "# Le pasamos la constante CREDITBASE_URL a la función read_csv de Pandas, la cual leerá y descargará el conjunto de datos,\n",
    "# devolviendonos un objeto de tipo DataFrame que llamaremos df_credit:\n",
    "df_credit = pd.read_csv(CREDITBASE_URL)\n",
    "\n",
    "df_credit.head()"
   ]
  },
  {
   "cell_type": "markdown",
   "id": "113ed009-8774-4bf6-ab98-37d38ce9698b",
   "metadata": {},
   "source": [
    "# Definimos la semilla aleatoria"
   ]
  },
  {
   "cell_type": "code",
   "execution_count": 5,
   "id": "5eeaafe2-b92d-4b3f-8a30-6987a3d2a372",
   "metadata": {},
   "outputs": [],
   "source": [
    "RANDOM_SEED = 123456789\n",
    "np.random.seed(RANDOM_SEED)"
   ]
  },
  {
   "cell_type": "markdown",
   "id": "d2656062",
   "metadata": {},
   "source": [
    "# Descripción de las variables"
   ]
  },
  {
   "cell_type": "markdown",
   "id": "8561dc83-13fa-4834-9371-c4157363c9e8",
   "metadata": {},
   "source": [
    "|Nombre|Descripción|\n",
    "|---|:---:|\n",
    "| checking_status | Estado de la cuenta corriente existente, en marcos alemanes. | \n",
    "| duration | Duración en meses. | \n",
    "| credit_history | Historial crediticio (créditos tomados, devueltos debidamente, retrasos, cuentas críticas). | \n",
    "| purpose | Objeto del crédito (coche, televisión, ...). | \n",
    "| credit_amount | Monto del crédito. | \n",
    "| savings_status | Estado de las cuentas de ahorro / bonos, en marcos alemanes. | \n",
    "| employment | Empleo actual, en número de años. | \n",
    "| installment_commitment | Tasa de pago a plazos en porcentaje de la renta disponible. | \n",
    "| personal_status | Estado personal (casado, soltero, ...) y sexo. | \n",
    "| other_parties | Otros deudores / garantes. | \n",
    "| residence_since | Residencia actual desde hace X años. | \n",
    "| property_magnitude | Propiedad (por ejemplo, bienes raíces). | \n",
    "| age | Edad en años. | \n",
    "| other_payment_plans | Otros planes de pago (bancos, tiendas). | \n",
    "| housing | Vivienda (alquiler, propia, ...). | \n",
    "| existing_credits | Número de créditos existentes en este banco. | \n",
    "| job | Trabajo. | \n",
    "| num_dependents | Número de personas a las que están obligadas a mantener. | \n",
    "| own_telephone | Teléfono (sí, no). | \n",
    "| foreign_worker | Trabajador extranjero (sí, no). | \n",
    "| class | Este conjunto de datos clasifica a las personas descritas por un conjunto de atributos como riesgos crediticios buenos (good) o malos (bad). Es peor clasificar a un cliente como bueno cuando es malo (5), que clasificar a un cliente como malo cuando es bueno (1). | "
   ]
  },
  {
   "cell_type": "markdown",
   "id": "a53680bc-b947-4994-b3f6-7d1dd997b37d",
   "metadata": {},
   "source": [
    "Describimos brevemente el `dataframe` con el que estamos trabajando:"
   ]
  },
  {
   "cell_type": "code",
   "execution_count": 6,
   "id": "fd93710f-e90c-49b4-818f-676b16e50ac1",
   "metadata": {},
   "outputs": [
    {
     "data": {
      "text/html": [
       "<div>\n",
       "<style scoped>\n",
       "    .dataframe tbody tr th:only-of-type {\n",
       "        vertical-align: middle;\n",
       "    }\n",
       "\n",
       "    .dataframe tbody tr th {\n",
       "        vertical-align: top;\n",
       "    }\n",
       "\n",
       "    .dataframe thead th {\n",
       "        text-align: right;\n",
       "    }\n",
       "</style>\n",
       "<table border=\"1\" class=\"dataframe\">\n",
       "  <thead>\n",
       "    <tr style=\"text-align: right;\">\n",
       "      <th></th>\n",
       "      <th>duration</th>\n",
       "      <th>credit_amount</th>\n",
       "      <th>installment_commitment</th>\n",
       "      <th>residence_since</th>\n",
       "      <th>age</th>\n",
       "      <th>existing_credits</th>\n",
       "      <th>num_dependents</th>\n",
       "    </tr>\n",
       "  </thead>\n",
       "  <tbody>\n",
       "    <tr>\n",
       "      <th>count</th>\n",
       "      <td>1000.000000</td>\n",
       "      <td>1000.000000</td>\n",
       "      <td>1000.000000</td>\n",
       "      <td>1000.000000</td>\n",
       "      <td>1000.000000</td>\n",
       "      <td>1000.000000</td>\n",
       "      <td>1000.000000</td>\n",
       "    </tr>\n",
       "    <tr>\n",
       "      <th>mean</th>\n",
       "      <td>20.903000</td>\n",
       "      <td>3271.258000</td>\n",
       "      <td>2.973000</td>\n",
       "      <td>2.845000</td>\n",
       "      <td>35.546000</td>\n",
       "      <td>1.407000</td>\n",
       "      <td>1.155000</td>\n",
       "    </tr>\n",
       "    <tr>\n",
       "      <th>std</th>\n",
       "      <td>12.058814</td>\n",
       "      <td>2822.736876</td>\n",
       "      <td>1.118715</td>\n",
       "      <td>1.103718</td>\n",
       "      <td>11.375469</td>\n",
       "      <td>0.577654</td>\n",
       "      <td>0.362086</td>\n",
       "    </tr>\n",
       "    <tr>\n",
       "      <th>min</th>\n",
       "      <td>4.000000</td>\n",
       "      <td>250.000000</td>\n",
       "      <td>1.000000</td>\n",
       "      <td>1.000000</td>\n",
       "      <td>19.000000</td>\n",
       "      <td>1.000000</td>\n",
       "      <td>1.000000</td>\n",
       "    </tr>\n",
       "    <tr>\n",
       "      <th>25%</th>\n",
       "      <td>12.000000</td>\n",
       "      <td>1365.500000</td>\n",
       "      <td>2.000000</td>\n",
       "      <td>2.000000</td>\n",
       "      <td>27.000000</td>\n",
       "      <td>1.000000</td>\n",
       "      <td>1.000000</td>\n",
       "    </tr>\n",
       "    <tr>\n",
       "      <th>50%</th>\n",
       "      <td>18.000000</td>\n",
       "      <td>2319.500000</td>\n",
       "      <td>3.000000</td>\n",
       "      <td>3.000000</td>\n",
       "      <td>33.000000</td>\n",
       "      <td>1.000000</td>\n",
       "      <td>1.000000</td>\n",
       "    </tr>\n",
       "    <tr>\n",
       "      <th>75%</th>\n",
       "      <td>24.000000</td>\n",
       "      <td>3972.250000</td>\n",
       "      <td>4.000000</td>\n",
       "      <td>4.000000</td>\n",
       "      <td>42.000000</td>\n",
       "      <td>2.000000</td>\n",
       "      <td>1.000000</td>\n",
       "    </tr>\n",
       "    <tr>\n",
       "      <th>max</th>\n",
       "      <td>72.000000</td>\n",
       "      <td>18424.000000</td>\n",
       "      <td>4.000000</td>\n",
       "      <td>4.000000</td>\n",
       "      <td>75.000000</td>\n",
       "      <td>4.000000</td>\n",
       "      <td>2.000000</td>\n",
       "    </tr>\n",
       "  </tbody>\n",
       "</table>\n",
       "</div>"
      ],
      "text/plain": [
       "          duration  credit_amount  installment_commitment  residence_since  \\\n",
       "count  1000.000000    1000.000000             1000.000000      1000.000000   \n",
       "mean     20.903000    3271.258000                2.973000         2.845000   \n",
       "std      12.058814    2822.736876                1.118715         1.103718   \n",
       "min       4.000000     250.000000                1.000000         1.000000   \n",
       "25%      12.000000    1365.500000                2.000000         2.000000   \n",
       "50%      18.000000    2319.500000                3.000000         3.000000   \n",
       "75%      24.000000    3972.250000                4.000000         4.000000   \n",
       "max      72.000000   18424.000000                4.000000         4.000000   \n",
       "\n",
       "               age  existing_credits  num_dependents  \n",
       "count  1000.000000       1000.000000     1000.000000  \n",
       "mean     35.546000          1.407000        1.155000  \n",
       "std      11.375469          0.577654        0.362086  \n",
       "min      19.000000          1.000000        1.000000  \n",
       "25%      27.000000          1.000000        1.000000  \n",
       "50%      33.000000          1.000000        1.000000  \n",
       "75%      42.000000          2.000000        1.000000  \n",
       "max      75.000000          4.000000        2.000000  "
      ]
     },
     "execution_count": 6,
     "metadata": {},
     "output_type": "execute_result"
    }
   ],
   "source": [
    "df_credit.describe()"
   ]
  },
  {
   "cell_type": "markdown",
   "id": "54d2c05c",
   "metadata": {},
   "source": [
    "Comprobamos los tipos de cada variable:"
   ]
  },
  {
   "cell_type": "code",
   "execution_count": 7,
   "id": "f6c3161b",
   "metadata": {},
   "outputs": [
    {
     "name": "stdout",
     "output_type": "stream",
     "text": [
      "checking_status  --> object\n",
      "duration  --> int64\n",
      "credit_history  --> object\n",
      "purpose  --> object\n",
      "credit_amount  --> int64\n",
      "savings_status  --> object\n",
      "employment  --> object\n",
      "installment_commitment  --> int64\n",
      "personal_status  --> object\n",
      "other_parties  --> object\n",
      "residence_since  --> int64\n",
      "property_magnitude  --> object\n",
      "age  --> int64\n",
      "other_payment_plans  --> object\n",
      "housing  --> object\n",
      "existing_credits  --> int64\n",
      "job  --> object\n",
      "num_dependents  --> int64\n",
      "own_telephone  --> object\n",
      "foreign_worker  --> object\n",
      "class  --> object\n"
     ]
    },
    {
     "data": {
      "text/plain": [
       "0      good\n",
       "1       bad\n",
       "2      good\n",
       "3      good\n",
       "4       bad\n",
       "       ... \n",
       "995    good\n",
       "996    good\n",
       "997    good\n",
       "998     bad\n",
       "999    good\n",
       "Name: class, Length: 1000, dtype: object"
      ]
     },
     "execution_count": 7,
     "metadata": {},
     "output_type": "execute_result"
    }
   ],
   "source": [
    "obj = df_credit.dtypes\n",
    "\n",
    "for key,value in obj.iteritems():\n",
    "        print(key,\" -->\",value)\n",
    "        \n",
    "        \n",
    "df_credit[\"class\"]"
   ]
  },
  {
   "cell_type": "markdown",
   "id": "b267ce72-e038-4055-80a9-f205c61be871",
   "metadata": {},
   "source": [
    "Las variables tipo `object` son variables categóricas tipo *string*. Esto es problemático con los modelos *SVM* y *MLP*, que trabajan de forma óptima con datos numéricos."
   ]
  },
  {
   "cell_type": "markdown",
   "id": "7f9fe4a3-152a-4636-b893-10638026bd48",
   "metadata": {},
   "source": [
    "# Procesado de datos"
   ]
  },
  {
   "cell_type": "markdown",
   "id": "daa270d3-64c5-484e-a7bf-ecbd797bc9aa",
   "metadata": {},
   "source": [
    "## Numerizamos la variable de salida"
   ]
  },
  {
   "cell_type": "markdown",
   "id": "22266188-79c3-410b-9c81-3889ce16626e",
   "metadata": {},
   "source": [
    "Empezamos haciendo el encoding de la variable `class` de cara a poder hacer modelos de clasificación más adelante. Es decir, pasamos de una variable tipo *string* a una variable tipo *int*:"
   ]
  },
  {
   "cell_type": "code",
   "execution_count": 8,
   "id": "2917524a",
   "metadata": {},
   "outputs": [],
   "source": [
    "df_credit['class'] =  df_credit['class'].map({\n",
    "    'good': 0, \n",
    "     'bad': 1,\n",
    "}).astype(int)"
   ]
  },
  {
   "cell_type": "markdown",
   "id": "f0026b67-a8fb-42b9-a262-dbba3e018cdb",
   "metadata": {},
   "source": [
    "## Separamos el dataframe en train y test"
   ]
  },
  {
   "cell_type": "markdown",
   "id": "c107fdd5-ee6f-45b4-bda4-e91fe03c8875",
   "metadata": {},
   "source": [
    "Separamos los datos en *train* y *test*. Hacemos la división estratificada, es decir, teniendo en cuenta la clase de salida (para que la distribución de la variable de salida no se vea afectada en alguno de los dos subconjuntos generados):"
   ]
  },
  {
   "cell_type": "code",
   "execution_count": 9,
   "id": "fd4ef746-056b-48c3-b50a-2728e5352633",
   "metadata": {},
   "outputs": [
    {
     "name": "stdout",
     "output_type": "stream",
     "text": [
      "Tamaños de los dos dataframes generados\n",
      "(800, 21)\n",
      "(200, 21)\n"
     ]
    }
   ],
   "source": [
    "df_train, df_test = train_test_split(df_credit, test_size=0.2, shuffle = True, stratify = df_credit['class'])\n",
    "\n",
    "print(\"Tamaños de los dos dataframes generados\")\n",
    "print(df_train.shape)\n",
    "print(df_test.shape)"
   ]
  },
  {
   "cell_type": "markdown",
   "id": "ecffe4b1-e308-4cc5-b491-f245f5256ab4",
   "metadata": {},
   "source": [
    "## Pasamos todas las variables categóricas a numéricas"
   ]
  },
  {
   "cell_type": "markdown",
   "id": "a15fa7fb-8183-4105-a5a2-b731991da46e",
   "metadata": {},
   "source": [
    "Los algoritmos que vamos a usar esperan trabajar con variables numéricas. Tenemos dos opciones:\n",
    "1. Quedarnos solo con aquellas variables numéricas. Sin embargo, con esto estamos perdiendo demasiada información valiosa sobre el problema\n",
    "2. Numerizar las variables categóricas. Esto puede introducir ciertos problemas\n",
    "    1. Si se usa un entero para numerizar (\"x\": 1, \"y\": 2, \"z\": 3, ...) estamos introduciendo información que no estaba en el dataset (por ejemplo, \"x\" es la mitad que \"z\", o \"x\" está más cerca de \"y\" que \"z\")\n",
    "    2. Si usamos *one-hot-encoding*, aumentamos drásticamente la dimensionalidad del conjunto de datos\n",
    "    \n",
    "Por simplicidad, decidimos numerizar las variables usando un entero, conscientes de los problemas que esto puede suponer. Además, la transformación se aprende sobre el conjunto de entrenamiento, y se aplica en training y test. Con esto, evitamos hacer *data snooping* sobre el conjunto de test."
   ]
  },
  {
   "cell_type": "code",
   "execution_count": 10,
   "id": "be268a20-38d3-400a-a25b-e7c825f1d725",
   "metadata": {},
   "outputs": [
    {
     "name": "stdout",
     "output_type": "stream",
     "text": [
      "Resultado en training\n",
      "     checking_status  duration  credit_history  purpose  credit_amount  \\\n",
      "846                3        18               3        1           6761   \n",
      "335                1         6               1        5           3384   \n",
      "946                1        24               0        5           3349   \n",
      "347                0        24               3        7           3758   \n",
      "81                 3        15               3        7           1213   \n",
      "\n",
      "     savings_status  employment  installment_commitment  personal_status  \\\n",
      "846               4           0                       2                3   \n",
      "335               2           0                       1                1   \n",
      "946               1           2                       4                3   \n",
      "347               1           4                       1                0   \n",
      "81                1           3                       4                3   \n",
      "\n",
      "     other_parties  ...  property_magnitude  age  other_payment_plans  \\\n",
      "846              2  ...                   3   68                    1   \n",
      "335              2  ...                   2   44                    1   \n",
      "946              2  ...                   1   30                    1   \n",
      "347              2  ...                   1   23                    1   \n",
      "81               2  ...                   0   47                    2   \n",
      "\n",
      "     housing  existing_credits  job  num_dependents  own_telephone  \\\n",
      "846        2                 2    3               1              0   \n",
      "335        2                 1    0               1              1   \n",
      "946        0                 1    3               2              1   \n",
      "347        2                 1    1               1              0   \n",
      "81         1                 1    3               1              1   \n",
      "\n",
      "     foreign_worker  class  \n",
      "846               1      1  \n",
      "335               1      1  \n",
      "946               1      1  \n",
      "347               1      0  \n",
      "81                1      0  \n",
      "\n",
      "[5 rows x 21 columns]\n",
      "\n",
      "Resultado en test\n",
      "     checking_status  duration  credit_history  purpose  credit_amount  \\\n",
      "32                 0        18               3        1           5866   \n",
      "419                0        18               3        1           1042   \n",
      "519                3         6               1        7            700   \n",
      "451                3         6               3        7            518   \n",
      "765                0        12               3        7           1155   \n",
      "\n",
      "     savings_status  employment  installment_commitment  personal_status  \\\n",
      "32                0           0                       2                3   \n",
      "419               4           0                       4                0   \n",
      "519               4           3                       4                3   \n",
      "451               2           0                       3                0   \n",
      "765               2           3                       3                2   \n",
      "\n",
      "     other_parties  ...  property_magnitude  age  other_payment_plans  \\\n",
      "32               2  ...                   3   30                    1   \n",
      "419              2  ...                   0   33                    1   \n",
      "519              2  ...                   1   36                    1   \n",
      "451              2  ...                   2   29                    1   \n",
      "765              1  ...                   2   40                    0   \n",
      "\n",
      "     housing  existing_credits  job  num_dependents  own_telephone  \\\n",
      "32         1                 2    3               1              1   \n",
      "419        1                 1    3               1              0   \n",
      "519        0                 2    3               1              0   \n",
      "451        1                 1    3               1              0   \n",
      "765        1                 2    2               1              0   \n",
      "\n",
      "     foreign_worker  class  \n",
      "32                1      0  \n",
      "419               1      1  \n",
      "519               1      0  \n",
      "451               1      0  \n",
      "765               1      0  \n",
      "\n",
      "[5 rows x 21 columns]\n"
     ]
    }
   ],
   "source": [
    "# Usamos un label encoder de scikit learn para hacer el encoding\n",
    "\n",
    "for var_name, var_type in  df_credit.dtypes.iteritems():\n",
    "    if var_type == \"object\":\n",
    "        \n",
    "        # Calculamos el transformador sobre el conjunto de entrenamiento\n",
    "        curr_encoder = LabelEncoder()\n",
    "        df_train[var_name] = curr_encoder.fit_transform(df_train[var_name])\n",
    "        \n",
    "        # Aplicamos la transformacion aprendida sobre el conjunto de test\n",
    "        # Con esto, evitamos hacer data snooping sobre el conjunto de test\n",
    "        df_test[var_name] = curr_encoder.transform(df_test[var_name])\n",
    "\n",
    "print(\"Resultado en training\")\n",
    "print(df_train.head())\n",
    "print(\"\")\n",
    "\n",
    "print(\"Resultado en test\")\n",
    "print(df_test.head())"
   ]
  },
  {
   "cell_type": "markdown",
   "id": "05db5448-045e-4d63-8583-e4b98b85fb89",
   "metadata": {},
   "source": [
    "## Borramos las filas con `NaN` o `None`"
   ]
  },
  {
   "cell_type": "code",
   "execution_count": 11,
   "id": "40382718-984d-4c46-a997-913ce9a63190",
   "metadata": {},
   "outputs": [
    {
     "data": {
      "text/plain": [
       "(800, 21)"
      ]
     },
     "execution_count": 11,
     "metadata": {},
     "output_type": "execute_result"
    }
   ],
   "source": [
    "df_train = df_train.dropna()\n",
    "df_train.shape"
   ]
  },
  {
   "cell_type": "markdown",
   "id": "d2c6ab61-9266-4587-af06-c7d74994bcf1",
   "metadata": {},
   "source": [
    "Podemos ver que no hemos eliminado ningún valor."
   ]
  },
  {
   "cell_type": "markdown",
   "id": "b5f46309-eb26-4eea-8163-b6f87cf0ddbe",
   "metadata": {},
   "source": [
    "## Borrado de outliers"
   ]
  },
  {
   "cell_type": "markdown",
   "id": "b191ca87-be72-41c2-942f-c423375b145e",
   "metadata": {},
   "source": [
    "Usamos el criterio $3 \\cdot IQR$, variable por variable, como método para borrar los *outliers*. Es importante que esta fase la realicemos previamente a la normalización de los datos, para que los outliers no dominen las estadísticas que se usan en esta normalización."
   ]
  },
  {
   "cell_type": "code",
   "execution_count": 12,
   "id": "12e4b87a-c8bd-46c6-b9f2-e4e6a2543b11",
   "metadata": {},
   "outputs": [
    {
     "name": "stdout",
     "output_type": "stream",
     "text": [
      "Hemos eliminado 93 filas\n"
     ]
    }
   ],
   "source": [
    "# Guardamos el shape anterior para poder calcular cuantos datos hemos borrado\n",
    "old_shape = df_train.shape\n",
    "\n",
    "# Calculamos el zscore (numero de desviaciones tipicas que nos desviamos de la media)\n",
    "z_score = np.abs(stats.zscore(df_train))\n",
    "\n",
    "# Usamos esa metrica para filtrar los outliers\n",
    "df_train = df_train[(z_score<3).all(axis=1)]\n",
    "\n",
    "# Calculamos el numero de filas que hemos borrado\n",
    "new_shape = df_train.shape\n",
    "deleted_rows = old_shape[0] - new_shape[0]\n",
    "print(f\"Hemos eliminado {deleted_rows} filas\")"
   ]
  },
  {
   "cell_type": "markdown",
   "id": "93a8347f-27f0-43e8-98a5-8f772506423a",
   "metadata": {},
   "source": [
    "## Separamos los datasets"
   ]
  },
  {
   "cell_type": "code",
   "execution_count": 13,
   "id": "6a2c1d26-6e95-44b7-8f72-0e46d784e80c",
   "metadata": {},
   "outputs": [
    {
     "name": "stdout",
     "output_type": "stream",
     "text": [
      "(707, 20)\n",
      "(707,)\n",
      "(200, 20)\n",
      "(200,)\n"
     ]
    }
   ],
   "source": [
    "X_train = df_train.iloc[:, :-1]\n",
    "Y_train = df_train.iloc[:, -1]\n",
    "\n",
    "X_test = df_test.iloc[:, :-1]\n",
    "Y_test = df_test.iloc[:, -1]\n",
    "\n",
    "print(X_train.shape)\n",
    "print(Y_train.shape)\n",
    "print(X_test.shape)\n",
    "print(Y_test.shape)"
   ]
  },
  {
   "cell_type": "markdown",
   "id": "80eebdb1-32c0-440a-8802-f8676a45c3a5",
   "metadata": {},
   "source": [
    "## Normalizamos el conjunto de datos"
   ]
  },
  {
   "cell_type": "markdown",
   "id": "e6d73e25-df4b-46be-b37d-704acb25ae4b",
   "metadata": {},
   "source": [
    "Usamos min-max para normalizar. De nuevo, aprendemos los parámetros en train y aplicamos en train y test, para evitar *data snooping* en el conjunto de test."
   ]
  },
  {
   "cell_type": "code",
   "execution_count": 14,
   "id": "f0e5c10d-48ac-4e0e-9f86-5f9fe25c7103",
   "metadata": {},
   "outputs": [],
   "source": [
    "scaler = sklearn.preprocessing.MinMaxScaler()\n",
    "X_train = scaler.fit_transform(X_train)\n",
    "X_test = scaler.transform(X_test)"
   ]
  },
  {
   "cell_type": "markdown",
   "id": "d584eee4-106f-482f-a969-7e54a3b3ae43",
   "metadata": {},
   "source": [
    "# Selección de hiperparámetros usando K-Fold Cross Validation"
   ]
  },
  {
   "cell_type": "markdown",
   "id": "5b942598-5ae9-4c83-bf31-d2725ea42414",
   "metadata": {},
   "source": [
    "Los algoritmos con los que vamos a trabajar son *SVM*, *MLP* y *AdaBoost*. Los hiperparámetros que definen estos modelos y su aprendizaje los escogemos usando *K-Fold Cross Validation*. Gracias a esta técnica podemos usar el *training set* tanto para entrenar con distintos parámetros como para validar dichos modelos. Se puede consultar más información sobre esta técnica en la [documentación oficial de sklearn](https://scikit-learn.org/stable/modules/cross_validation.html)"
   ]
  },
  {
   "cell_type": "markdown",
   "id": "19c399f8-bb70-48ad-8f16-8ef8e1062d17",
   "metadata": {
    "tags": []
   },
   "source": [
    "## Support Vector Machine"
   ]
  },
  {
   "cell_type": "markdown",
   "id": "53efc13b-17b8-4262-8ed2-3c558b4b06ee",
   "metadata": {},
   "source": [
    "Exploramos todas las combinaciones de parámetros y aplicamos Cross Validation:"
   ]
  },
  {
   "cell_type": "code",
   "execution_count": 15,
   "id": "0fe346ca-6b1a-4c11-aabd-500d0c2c0863",
   "metadata": {},
   "outputs": [
    {
     "name": "stdout",
     "output_type": "stream",
     "text": [
      "Computando CV para 0.3, rbf\n",
      "Computando CV para 0.3, linear\n",
      "Computando CV para 0.3, poly\n",
      "Computando CV para 0.5, rbf\n",
      "Computando CV para 0.5, linear\n",
      "Computando CV para 0.5, poly\n",
      "Computando CV para 0.8, rbf\n",
      "Computando CV para 0.8, linear\n",
      "Computando CV para 0.8, poly\n",
      "Computando CV para 0.9, rbf\n",
      "Computando CV para 0.9, linear\n",
      "Computando CV para 0.9, poly\n",
      "Computando CV para 1.0, rbf\n",
      "Computando CV para 1.0, linear\n",
      "Computando CV para 1.0, poly\n",
      "Computando CV para 1.05, rbf\n",
      "Computando CV para 1.05, linear\n",
      "Computando CV para 1.05, poly\n",
      "Computando CV para 1.1, rbf\n",
      "Computando CV para 1.1, linear\n",
      "Computando CV para 1.1, poly\n",
      "Computando CV para 1.15, rbf\n",
      "Computando CV para 1.15, linear\n",
      "Computando CV para 1.15, poly\n",
      "Computando CV para 1.2, rbf\n",
      "Computando CV para 1.2, linear\n",
      "Computando CV para 1.2, poly\n",
      "Computando CV para 1.3, rbf\n",
      "Computando CV para 1.3, linear\n",
      "Computando CV para 1.3, poly\n",
      "Computando CV para 1.4, rbf\n",
      "Computando CV para 1.4, linear\n",
      "Computando CV para 1.4, poly\n",
      "Computando CV para 1.5, rbf\n",
      "Computando CV para 1.5, linear\n",
      "Computando CV para 1.5, poly\n",
      "Computando CV para 2.0, rbf\n",
      "Computando CV para 2.0, linear\n",
      "Computando CV para 2.0, poly\n",
      "Computando CV para 3.0, rbf\n",
      "Computando CV para 3.0, linear\n",
      "Computando CV para 3.0, poly\n",
      "Computando CV para 5.0, rbf\n",
      "Computando CV para 5.0, linear\n",
      "Computando CV para 5.0, poly\n"
     ]
    }
   ],
   "source": [
    "# Valores que fijan la penalizacion de regularizacion\n",
    "C_values = [0.3, 0.5, 0.8, 0.9, 1.0, 1.05, 1.1, 1.15, 1.2, 1.3, 1.4, 1.5, 2.0, 3.0, 5.0]\n",
    "\n",
    "# Tipos de kernel que podemos aplicar\n",
    "kernel_values = [\"rbf\", \"linear\", \"poly\"]\n",
    "\n",
    "# Diccionario en el que vamos a guardar los resultados de CV\n",
    "results = dict()\n",
    "\n",
    "# Para hacer 5 fold cross validation\n",
    "cv = ShuffleSplit(n_splits=10, test_size=0.2, random_state=RANDOM_SEED)\n",
    "\n",
    "# Para precomputar la mejor combinacion de parametros\n",
    "best_parameters = {\n",
    "    \"C\": None,\n",
    "    \"kernel\": None,\n",
    "}\n",
    "best_acc = 0.0\n",
    "\n",
    "# Probamos con todas las combinaciones de parametros\n",
    "for C in C_values:\n",
    "    for kernel in kernel_values:\n",
    "        \n",
    "        # Para ver el proceso de ejecucion\n",
    "        print(f\"Computando CV para {C}, {kernel}\")\n",
    "        \n",
    "        # Definimos el clasificador, usando los parametros que movemos y fijando\n",
    "        # el resto de parametros necesarios. \n",
    "        clf = SVC(kernel=kernel, C=C, random_state=RANDOM_SEED)\n",
    "        \n",
    "        # Aplicamos el algoritmo \n",
    "        scores = cross_val_score(clf, X_train, Y_train, cv=cv, scoring='accuracy')\n",
    "        \n",
    "        # Guardamos los resultados\n",
    "        results[C, kernel, \"mean\"] = scores.mean()\n",
    "        results[C, kernel, \"std\"] = scores.std()\n",
    "        \n",
    "        # Comprobamos si hemos mejorado los resultados\n",
    "        if results[C, kernel, \"mean\"] > best_acc:\n",
    "            best_acc = results[C, kernel, \"mean\"]\n",
    "            best_parameters = {\n",
    "                \"C\": C,\n",
    "                \"kernel\": kernel\n",
    "            }"
   ]
  },
  {
   "cell_type": "markdown",
   "id": "90e00450-cc50-4257-a18b-fbb14abeb11a",
   "metadata": {},
   "source": [
    "Mostramos todos los parámetros con sus métricas alcanzadas:"
   ]
  },
  {
   "cell_type": "code",
   "execution_count": 16,
   "id": "864dfa3d-7343-4fde-bbdf-d9c53b6f807c",
   "metadata": {},
   "outputs": [
    {
     "name": "stdout",
     "output_type": "stream",
     "text": [
      "{(0.3, 'linear', 'mean'): 0.7140845070422536,\n",
      " (0.3, 'linear', 'std'): 0.036347853241025185,\n",
      " (0.3, 'poly', 'mean'): 0.7169014084507042,\n",
      " (0.3, 'poly', 'std'): 0.023314007545418108,\n",
      " (0.3, 'rbf', 'mean'): 0.7140845070422536,\n",
      " (0.3, 'rbf', 'std'): 0.036619718309859155,\n",
      " (0.5, 'linear', 'mean'): 0.7105633802816902,\n",
      " (0.5, 'linear', 'std'): 0.034420702562957574,\n",
      " (0.5, 'poly', 'mean'): 0.7126760563380281,\n",
      " (0.5, 'poly', 'std'): 0.02222497723670354,\n",
      " (0.5, 'rbf', 'mean'): 0.717605633802817,\n",
      " (0.5, 'rbf', 'std'): 0.03811284261333749,\n",
      " (0.8, 'linear', 'mean'): 0.7070422535211268,\n",
      " (0.8, 'linear', 'std'): 0.03509841068838623,\n",
      " (0.8, 'poly', 'mean'): 0.7084507042253522,\n",
      " (0.8, 'poly', 'std'): 0.024838298716265365,\n",
      " (0.8, 'rbf', 'mean'): 0.7197183098591549,\n",
      " (0.8, 'rbf', 'std'): 0.0235257649133663,\n",
      " (0.9, 'linear', 'mean'): 0.7084507042253521,\n",
      " (0.9, 'linear', 'std'): 0.036619718309859155,\n",
      " (0.9, 'poly', 'mean'): 0.7098591549295774,\n",
      " (0.9, 'poly', 'std'): 0.02288461522432667,\n",
      " (0.9, 'rbf', 'mean'): 0.7218309859154929,\n",
      " (0.9, 'rbf', 'std'): 0.024445852053112376,\n",
      " (1.0, 'linear', 'mean'): 0.7098591549295774,\n",
      " (1.0, 'linear', 'std'): 0.036700885129001076,\n",
      " (1.0, 'poly', 'mean'): 0.7126760563380282,\n",
      " (1.0, 'poly', 'std'): 0.023943661971831,\n",
      " (1.0, 'rbf', 'mean'): 0.7253521126760563,\n",
      " (1.0, 'rbf', 'std'): 0.023356512608136627,\n",
      " (1.05, 'linear', 'mean'): 0.7084507042253522,\n",
      " (1.05, 'linear', 'std'): 0.03495682717180523,\n",
      " (1.05, 'poly', 'mean'): 0.7133802816901409,\n",
      " (1.05, 'poly', 'std'): 0.022502176491085164,\n",
      " (1.05, 'rbf', 'mean'): 0.7281690140845071,\n",
      " (1.05, 'rbf', 'std'): 0.02523446882699848,\n",
      " (1.1, 'linear', 'mean'): 0.7077464788732394,\n",
      " (1.1, 'linear', 'std'): 0.035526755649660395,\n",
      " (1.1, 'poly', 'mean'): 0.7133802816901408,\n",
      " (1.1, 'poly', 'std'): 0.020663944719889037,\n",
      " (1.1, 'rbf', 'mean'): 0.730281690140845,\n",
      " (1.1, 'rbf', 'std'): 0.02378781092120358,\n",
      " (1.15, 'linear', 'mean'): 0.7070422535211268,\n",
      " (1.15, 'linear', 'std'): 0.035936199499079086,\n",
      " (1.15, 'poly', 'mean'): 0.7133802816901409,\n",
      " (1.15, 'poly', 'std'): 0.019930946053640722,\n",
      " (1.15, 'rbf', 'mean'): 0.7295774647887323,\n",
      " (1.15, 'rbf', 'std'): 0.023398940458924173,\n",
      " (1.2, 'linear', 'mean'): 0.7063380281690141,\n",
      " (1.2, 'linear', 'std'): 0.03646364356619611,\n",
      " (1.2, 'poly', 'mean'): 0.7126760563380283,\n",
      " (1.2, 'poly', 'std'): 0.019617448277724124,\n",
      " (1.2, 'rbf', 'mean'): 0.728169014084507,\n",
      " (1.2, 'rbf', 'std'): 0.024231902160683473,\n",
      " (1.3, 'linear', 'mean'): 0.7063380281690141,\n",
      " (1.3, 'linear', 'std'): 0.03646364356619611,\n",
      " (1.3, 'poly', 'mean'): 0.7126760563380282,\n",
      " (1.3, 'poly', 'std'): 0.02288461522432666,\n",
      " (1.3, 'rbf', 'mean'): 0.7246478873239437,\n",
      " (1.3, 'rbf', 'std'): 0.025478947204402178,\n",
      " (1.4, 'linear', 'mean'): 0.7063380281690141,\n",
      " (1.4, 'linear', 'std'): 0.03646364356619611,\n",
      " (1.4, 'poly', 'mean'): 0.7112676056338028,\n",
      " (1.4, 'poly', 'std'): 0.024997520210280073,\n",
      " (1.4, 'rbf', 'mean'): 0.723943661971831,\n",
      " (1.4, 'rbf', 'std'): 0.025740375890840935,\n",
      " (1.5, 'linear', 'mean'): 0.7070422535211268,\n",
      " (1.5, 'linear', 'std'): 0.03742346550869415,\n",
      " (1.5, 'poly', 'mean'): 0.7105633802816902,\n",
      " (1.5, 'poly', 'std'): 0.025672853709236887,\n",
      " (1.5, 'rbf', 'mean'): 0.7225352112676056,\n",
      " (1.5, 'rbf', 'std'): 0.025430239556715195,\n",
      " (2.0, 'linear', 'mean'): 0.704225352112676,\n",
      " (2.0, 'linear', 'std'): 0.032880612760362686,\n",
      " (2.0, 'poly', 'mean'): 0.7035211267605633,\n",
      " (2.0, 'poly', 'std'): 0.027356231830359207,\n",
      " (2.0, 'rbf', 'mean'): 0.7232394366197183,\n",
      " (2.0, 'rbf', 'std'): 0.02090256630937441,\n",
      " (3.0, 'linear', 'mean'): 0.7049295774647888,\n",
      " (3.0, 'linear', 'std'): 0.03156469694509151,\n",
      " (3.0, 'poly', 'mean'): 0.6985915492957746,\n",
      " (3.0, 'poly', 'std'): 0.03082544877216801,\n",
      " (3.0, 'rbf', 'mean'): 0.717605633802817,\n",
      " (3.0, 'rbf', 'std'): 0.0236623910090302,\n",
      " (5.0, 'linear', 'mean'): 0.7063380281690141,\n",
      " (5.0, 'linear', 'std'): 0.03700367508568916,\n",
      " (5.0, 'poly', 'mean'): 0.6922535211267606,\n",
      " (5.0, 'poly', 'std'): 0.03632738134233503,\n",
      " (5.0, 'rbf', 'mean'): 0.7028169014084507,\n",
      " (5.0, 'rbf', 'std'): 0.03269911765139129}\n"
     ]
    }
   ],
   "source": [
    "pprint(results)"
   ]
  },
  {
   "cell_type": "markdown",
   "id": "ed2cb3ee-9e54-4358-a6ac-4daefd6611b2",
   "metadata": {},
   "source": [
    "Tomamos ahora la mejor combinación de parámetros:"
   ]
  },
  {
   "cell_type": "code",
   "execution_count": 17,
   "id": "ac5d20a6-1334-45b3-8e9d-487ea27fb938",
   "metadata": {},
   "outputs": [
    {
     "name": "stdout",
     "output_type": "stream",
     "text": [
      "{'C': 1.1, 'kernel': 'rbf'}\n",
      "0.730281690140845\n"
     ]
    }
   ],
   "source": [
    "print(best_parameters)\n",
    "print(best_acc)"
   ]
  },
  {
   "cell_type": "markdown",
   "id": "7954e086-aca1-4db5-b34f-dd8bdab7d9a3",
   "metadata": {
    "tags": []
   },
   "source": [
    "## MLP"
   ]
  },
  {
   "cell_type": "markdown",
   "id": "13bd3913-6126-4a27-aead-1fe948c193df",
   "metadata": {},
   "source": [
    "Exploramos todas las combinaciones de parámetros y aplicamos Cross Validation:"
   ]
  },
  {
   "cell_type": "code",
   "execution_count": 18,
   "id": "032c00c3-0e41-4eb3-9cea-ea97e7139bbe",
   "metadata": {},
   "outputs": [
    {
     "name": "stdout",
     "output_type": "stream",
     "text": [
      "Computando CV para 0.001, 0.001\n",
      "Computando CV para 0.001, 0.01\n",
      "Computando CV para 0.001, 0.1\n",
      "Computando CV para 0.001, 0.5\n",
      "Computando CV para 0.01, 0.001\n",
      "Computando CV para 0.01, 0.01\n",
      "Computando CV para 0.01, 0.1\n",
      "Computando CV para 0.01, 0.5\n",
      "Computando CV para 0.1, 0.001\n",
      "Computando CV para 0.1, 0.01\n",
      "Computando CV para 0.1, 0.1\n",
      "Computando CV para 0.1, 0.5\n",
      "Computando CV para 0.25, 0.001\n",
      "Computando CV para 0.25, 0.01\n",
      "Computando CV para 0.25, 0.1\n",
      "Computando CV para 0.25, 0.5\n",
      "Computando CV para 0.5, 0.001\n",
      "Computando CV para 0.5, 0.01\n",
      "Computando CV para 0.5, 0.1\n",
      "Computando CV para 0.5, 0.5\n"
     ]
    }
   ],
   "source": [
    "# Valores para la regularizacion\n",
    "alpha_values = [0.001, 0.01, 0.1, 0.5]\n",
    "\n",
    "# Valores del learning rate\n",
    "lr_values = [0.001, 0.01, 0.1, 0.25, 0.5]\n",
    "\n",
    "# Diccionario en el que vamos a guardar los resultados de CV\n",
    "results = dict()\n",
    "\n",
    "# Para hacer 5 fold cross validation\n",
    "cv = ShuffleSplit(n_splits=10, test_size=0.2, random_state=RANDOM_SEED)\n",
    "\n",
    "# Para precomputar la mejor combinacion de parametros\n",
    "best_parameters = {\n",
    "    \"lr\": None,\n",
    "    \"alpha\": None,\n",
    "}\n",
    "best_acc = 0.0\n",
    "\n",
    "# Probamos con todas las combinaciones de parametros\n",
    "for lr in lr_values:\n",
    "    for alpha in alpha_values:\n",
    "        \n",
    "        # Para ver el proceso de ejecucion\n",
    "        print(f\"Computando CV para {lr}, {alpha}\")\n",
    "        \n",
    "        # Definimos el clasificador, usando los parametros que movemos y fijando\n",
    "        # el resto de parametros necesarios\n",
    "        clf = MLPClassifier(\n",
    "            activation = \"relu\",\n",
    "            solver = \"adam\",\n",
    "            learning_rate_init = lr,\n",
    "            alpha = alpha,\n",
    "            max_iter = 10,\n",
    "            random_state = RANDOM_SEED\n",
    "        )\n",
    "        \n",
    "        # Aplicamos el algoritmo \n",
    "        scores = cross_val_score(clf, X_train, Y_train, cv=cv, scoring='accuracy')\n",
    "        \n",
    "        # Guardamos los resultados\n",
    "        results[lr, alpha, \"mean\"] = scores.mean()\n",
    "        results[lr, alpha, \"std\"] = scores.std()\n",
    "        \n",
    "        # Comprobamos si hemos mejorado los resultados\n",
    "        if results[lr, alpha, \"mean\"] > best_acc:\n",
    "            best_acc = results[lr, alpha, \"mean\"]\n",
    "            best_parameters = {\n",
    "                \"lr\": lr,\n",
    "                \"alpha\": alpha\n",
    "            }"
   ]
  },
  {
   "cell_type": "markdown",
   "id": "65645988-312a-4e44-a932-ca7dacc23f1c",
   "metadata": {},
   "source": [
    "Mostramos todos los parámetros con sus métricas alcanzadas:"
   ]
  },
  {
   "cell_type": "code",
   "execution_count": 19,
   "id": "4286465f-4b73-45c9-b8ac-85c46959cb67",
   "metadata": {},
   "outputs": [
    {
     "name": "stdout",
     "output_type": "stream",
     "text": [
      "{(0.001, 0.001, 'mean'): 0.7133802816901408,\n",
      " (0.001, 0.001, 'std'): 0.03591549295774648,\n",
      " (0.001, 0.01, 'mean'): 0.7133802816901408,\n",
      " (0.001, 0.01, 'std'): 0.03591549295774648,\n",
      " (0.001, 0.1, 'mean'): 0.7133802816901408,\n",
      " (0.001, 0.1, 'std'): 0.03591549295774648,\n",
      " (0.001, 0.5, 'mean'): 0.7133802816901408,\n",
      " (0.001, 0.5, 'std'): 0.03591549295774648,\n",
      " (0.01, 0.001, 'mean'): 0.7042253521126761,\n",
      " (0.01, 0.001, 'std'): 0.029711300154547874,\n",
      " (0.01, 0.01, 'mean'): 0.7063380281690141,\n",
      " (0.01, 0.01, 'std'): 0.028353270618587886,\n",
      " (0.01, 0.1, 'mean'): 0.7042253521126761,\n",
      " (0.01, 0.1, 'std'): 0.028169014084507046,\n",
      " (0.01, 0.5, 'mean'): 0.7056338028169014,\n",
      " (0.01, 0.5, 'std'): 0.028133780782307303,\n",
      " (0.1, 0.001, 'mean'): 0.6992957746478874,\n",
      " (0.1, 0.001, 'std'): 0.03134396209051815,\n",
      " (0.1, 0.01, 'mean'): 0.7161971830985916,\n",
      " (0.1, 0.01, 'std'): 0.03421839609367984,\n",
      " (0.1, 0.1, 'mean'): 0.7140845070422535,\n",
      " (0.1, 0.1, 'std'): 0.03509841068838623,\n",
      " (0.1, 0.5, 'mean'): 0.7190140845070422,\n",
      " (0.1, 0.5, 'std'): 0.0282481283382135,\n",
      " (0.25, 0.001, 'mean'): 0.7133802816901408,\n",
      " (0.25, 0.001, 'std'): 0.03591549295774648,\n",
      " (0.25, 0.01, 'mean'): 0.7133802816901408,\n",
      " (0.25, 0.01, 'std'): 0.03591549295774648,\n",
      " (0.25, 0.1, 'mean'): 0.7204225352112676,\n",
      " (0.25, 0.1, 'std'): 0.03753593794714487,\n",
      " (0.25, 0.5, 'mean'): 0.71056338028169,\n",
      " (0.25, 0.5, 'std'): 0.03901306756187194,\n",
      " (0.5, 0.001, 'mean'): 0.702112676056338,\n",
      " (0.5, 0.001, 'std'): 0.039089265032050464,\n",
      " (0.5, 0.01, 'mean'): 0.6985915492957746,\n",
      " (0.5, 0.01, 'std'): 0.045508434989869055,\n",
      " (0.5, 0.1, 'mean'): 0.7133802816901408,\n",
      " (0.5, 0.1, 'std'): 0.03591549295774648,\n",
      " (0.5, 0.5, 'mean'): 0.6816901408450704,\n",
      " (0.5, 0.5, 'std'): 0.095411490447549}\n"
     ]
    }
   ],
   "source": [
    "pprint(results)"
   ]
  },
  {
   "cell_type": "markdown",
   "id": "8aa6224d-4a6a-45cf-bc94-d2adf77ec1b3",
   "metadata": {},
   "source": [
    "Tomamos ahora la mejor combinación de parámetros:"
   ]
  },
  {
   "cell_type": "code",
   "execution_count": 20,
   "id": "2e3e2ca0-d6cd-4b83-ad09-c79016ffbbcb",
   "metadata": {},
   "outputs": [
    {
     "name": "stdout",
     "output_type": "stream",
     "text": [
      "{'lr': 0.25, 'alpha': 0.1}\n",
      "0.7204225352112676\n"
     ]
    }
   ],
   "source": [
    "print(best_parameters)\n",
    "print(best_acc)"
   ]
  },
  {
   "cell_type": "markdown",
   "id": "911996ae-ac7b-4777-95f7-0901b20cab1a",
   "metadata": {
    "tags": []
   },
   "source": [
    "## AdaBoost"
   ]
  },
  {
   "cell_type": "markdown",
   "id": "4ce579df-125e-4cb4-bf07-1e82abe0f692",
   "metadata": {},
   "source": [
    "Exploramos todas las combinaciones de parámetros y aplicamos Cross Validation:"
   ]
  },
  {
   "cell_type": "code",
   "execution_count": 21,
   "id": "8d110a39-b073-48c5-b47b-abbec9da0ba9",
   "metadata": {},
   "outputs": [
    {
     "name": "stdout",
     "output_type": "stream",
     "text": [
      "Computando CV para 0.4, 0.5\n",
      "Computando CV para 0.5, 0.5\n",
      "Computando CV para 0.6, 0.5\n",
      "Computando CV para 0.75, 0.5\n",
      "Computando CV para 1.0, 0.5\n",
      "Computando CV para 1.25, 0.5\n",
      "Computando CV para 1.5, 0.5\n",
      "Computando CV para 2.0, 0.5\n",
      "Computando CV para 0.4, 0.5\n",
      "Computando CV para 0.5, 0.5\n",
      "Computando CV para 0.6, 0.5\n",
      "Computando CV para 0.75, 0.5\n",
      "Computando CV para 1.0, 0.5\n",
      "Computando CV para 1.25, 0.5\n",
      "Computando CV para 1.5, 0.5\n",
      "Computando CV para 2.0, 0.5\n",
      "Computando CV para 0.4, 0.5\n",
      "Computando CV para 0.5, 0.5\n",
      "Computando CV para 0.6, 0.5\n",
      "Computando CV para 0.75, 0.5\n",
      "Computando CV para 1.0, 0.5\n",
      "Computando CV para 1.25, 0.5\n",
      "Computando CV para 1.5, 0.5\n",
      "Computando CV para 2.0, 0.5\n",
      "Computando CV para 0.4, 0.5\n",
      "Computando CV para 0.5, 0.5\n",
      "Computando CV para 0.6, 0.5\n",
      "Computando CV para 0.75, 0.5\n",
      "Computando CV para 1.0, 0.5\n",
      "Computando CV para 1.25, 0.5\n",
      "Computando CV para 1.5, 0.5\n",
      "Computando CV para 2.0, 0.5\n",
      "Computando CV para 0.4, 0.5\n",
      "Computando CV para 0.5, 0.5\n",
      "Computando CV para 0.6, 0.5\n",
      "Computando CV para 0.75, 0.5\n",
      "Computando CV para 1.0, 0.5\n",
      "Computando CV para 1.25, 0.5\n",
      "Computando CV para 1.5, 0.5\n",
      "Computando CV para 2.0, 0.5\n",
      "Computando CV para 0.4, 0.5\n",
      "Computando CV para 0.5, 0.5\n",
      "Computando CV para 0.6, 0.5\n",
      "Computando CV para 0.75, 0.5\n",
      "Computando CV para 1.0, 0.5\n",
      "Computando CV para 1.25, 0.5\n",
      "Computando CV para 1.5, 0.5\n",
      "Computando CV para 2.0, 0.5\n",
      "Computando CV para 0.4, 0.5\n",
      "Computando CV para 0.5, 0.5\n",
      "Computando CV para 0.6, 0.5\n",
      "Computando CV para 0.75, 0.5\n",
      "Computando CV para 1.0, 0.5\n",
      "Computando CV para 1.25, 0.5\n",
      "Computando CV para 1.5, 0.5\n",
      "Computando CV para 2.0, 0.5\n",
      "Computando CV para 0.4, 0.5\n",
      "Computando CV para 0.5, 0.5\n",
      "Computando CV para 0.6, 0.5\n",
      "Computando CV para 0.75, 0.5\n",
      "Computando CV para 1.0, 0.5\n",
      "Computando CV para 1.25, 0.5\n",
      "Computando CV para 1.5, 0.5\n",
      "Computando CV para 2.0, 0.5\n",
      "Computando CV para 0.4, 0.5\n",
      "Computando CV para 0.5, 0.5\n",
      "Computando CV para 0.6, 0.5\n",
      "Computando CV para 0.75, 0.5\n",
      "Computando CV para 1.0, 0.5\n",
      "Computando CV para 1.25, 0.5\n",
      "Computando CV para 1.5, 0.5\n",
      "Computando CV para 2.0, 0.5\n",
      "Computando CV para 0.4, 0.5\n",
      "Computando CV para 0.5, 0.5\n",
      "Computando CV para 0.6, 0.5\n",
      "Computando CV para 0.75, 0.5\n",
      "Computando CV para 1.0, 0.5\n",
      "Computando CV para 1.25, 0.5\n",
      "Computando CV para 1.5, 0.5\n",
      "Computando CV para 2.0, 0.5\n"
     ]
    }
   ],
   "source": [
    "# Numero de estimadores usados en el ensemble\n",
    "n_values = [40, 50, 60, 75, 100, 125, 150, 175, 200, 400]\n",
    "\n",
    "# Valores para el learning rate\n",
    "lr_values = [0.4, 0.5, 0.6, 0.75, 1.0, 1.25, 1.5, 2.0]\n",
    "\n",
    "# Diccionario en el que vamos a guardar los resultados de CV\n",
    "results = dict()\n",
    "\n",
    "# Para hacer 5 fold cross validation\n",
    "cv = ShuffleSplit(n_splits=10, test_size=0.2, random_state=RANDOM_SEED)\n",
    "\n",
    "# Para precomputar la mejor combinacion de parametros\n",
    "best_parameters = {\n",
    "    \"lr\": None,\n",
    "    \"n\": None,\n",
    "}\n",
    "best_acc = 0.0\n",
    "\n",
    "# Probamos con todas las combinaciones de parametros\n",
    "for n in n_values:\n",
    "    for lr in lr_values:\n",
    "        \n",
    "        # Para ver el proceso de ejecucion\n",
    "        print(f\"Computando CV para {lr}, {alpha}\")\n",
    "        \n",
    "        # Definimos el clasificador, usando los parametros que movemos y fijando\n",
    "        # el resto de parametros necesarios\n",
    "        clf = AdaBoostClassifier(\n",
    "            n_estimators = n,\n",
    "            learning_rate = lr,\n",
    "            random_state = RANDOM_SEED\n",
    "        )\n",
    "        \n",
    "        # Aplicamos el algoritmo \n",
    "        scores = cross_val_score(clf, X_train, Y_train, cv=cv, scoring='accuracy')\n",
    "        \n",
    "        # Guardamos los resultados\n",
    "        results[lr, n, \"mean\"] = scores.mean()\n",
    "        results[lr, n, \"std\"] = scores.std()\n",
    "        \n",
    "        # Comprobamos si hemos mejorado los resultados\n",
    "        if results[lr, n, \"mean\"] > best_acc:\n",
    "            best_acc = results[lr, n, \"mean\"]\n",
    "            best_parameters = {\n",
    "                \"lr\": lr,\n",
    "                \"n\": n\n",
    "            }"
   ]
  },
  {
   "cell_type": "markdown",
   "id": "d3d7c257-16d4-482d-b4b3-45e0b78a59de",
   "metadata": {},
   "source": [
    "Mostramos todos los parámetros con sus métricas alcanzadas:"
   ]
  },
  {
   "cell_type": "code",
   "execution_count": 22,
   "id": "7ff8f025-9374-46b5-848c-be82eb3b4b3f",
   "metadata": {},
   "outputs": [
    {
     "name": "stdout",
     "output_type": "stream",
     "text": [
      "{(0.4, 40, 'mean'): 0.7394366197183099,\n",
      " (0.4, 40, 'std'): 0.04069910782197151,\n",
      " (0.4, 50, 'mean'): 0.7380281690140846,\n",
      " (0.4, 50, 'std'): 0.040060458178388415,\n",
      " (0.4, 60, 'mean'): 0.7330985915492959,\n",
      " (0.4, 60, 'std'): 0.03555466355313899,\n",
      " (0.4, 75, 'mean'): 0.7253521126760563,\n",
      " (0.4, 75, 'std'): 0.03792369582489089,\n",
      " (0.4, 100, 'mean'): 0.7274647887323943,\n",
      " (0.4, 100, 'std'): 0.04260999861241085,\n",
      " (0.4, 125, 'mean'): 0.7232394366197183,\n",
      " (0.4, 125, 'std'): 0.039342190770319516,\n",
      " (0.4, 150, 'mean'): 0.728169014084507,\n",
      " (0.4, 150, 'std'): 0.038210309764086035,\n",
      " (0.4, 175, 'mean'): 0.7323943661971831,\n",
      " (0.4, 175, 'std'): 0.03895582165053334,\n",
      " (0.4, 200, 'mean'): 0.7267605633802817,\n",
      " (0.4, 200, 'std'): 0.03723747624338673,\n",
      " (0.4, 400, 'mean'): 0.7098591549295774,\n",
      " (0.4, 400, 'std'): 0.04615766086809559,\n",
      " (0.5, 40, 'mean'): 0.7380281690140845,\n",
      " (0.5, 40, 'std'): 0.0365655070021047,\n",
      " (0.5, 50, 'mean'): 0.7281690140845072,\n",
      " (0.5, 50, 'std'): 0.03923489655544823,\n",
      " (0.5, 60, 'mean'): 0.7309859154929577,\n",
      " (0.5, 60, 'std'): 0.033890730747932286,\n",
      " (0.5, 75, 'mean'): 0.7288732394366197,\n",
      " (0.5, 75, 'std'): 0.036490834952201734,\n",
      " (0.5, 100, 'mean'): 0.7309859154929577,\n",
      " (0.5, 100, 'std'): 0.038674733007735176,\n",
      " (0.5, 125, 'mean'): 0.7302816901408451,\n",
      " (0.5, 125, 'std'): 0.039718559583672056,\n",
      " (0.5, 150, 'mean'): 0.7253521126760564,\n",
      " (0.5, 150, 'std'): 0.04020873922146536,\n",
      " (0.5, 175, 'mean'): 0.7197183098591549,\n",
      " (0.5, 175, 'std'): 0.03737042017301859,\n",
      " (0.5, 200, 'mean'): 0.717605633802817,\n",
      " (0.5, 200, 'std'): 0.03745658069569634,\n",
      " (0.5, 400, 'mean'): 0.7091549295774647,\n",
      " (0.5, 400, 'std'): 0.04553567087416114,\n",
      " (0.6, 40, 'mean'): 0.7225352112676057,\n",
      " (0.6, 40, 'std'): 0.03859771720012598,\n",
      " (0.6, 50, 'mean'): 0.730281690140845,\n",
      " (0.6, 50, 'std'): 0.0384496723794893,\n",
      " (0.6, 60, 'mean'): 0.7323943661971831,\n",
      " (0.6, 60, 'std'): 0.04020873922146536,\n",
      " (0.6, 75, 'mean'): 0.7274647887323944,\n",
      " (0.6, 75, 'std'): 0.03549882580599596,\n",
      " (0.6, 100, 'mean'): 0.7288732394366197,\n",
      " (0.6, 100, 'std'): 0.03276729612431505,\n",
      " (0.6, 125, 'mean'): 0.7288732394366197,\n",
      " (0.6, 125, 'std'): 0.035804855827848356,\n",
      " (0.6, 150, 'mean'): 0.7225352112676057,\n",
      " (0.6, 150, 'std'): 0.036211155301922364,\n",
      " (0.6, 175, 'mean'): 0.7211267605633803,\n",
      " (0.6, 175, 'std'): 0.039737284449763044,\n",
      " (0.6, 200, 'mean'): 0.7154929577464789,\n",
      " (0.6, 200, 'std'): 0.04096630865422249,\n",
      " (0.6, 400, 'mean'): 0.7070422535211268,\n",
      " (0.6, 400, 'std'): 0.04881048859482664,\n",
      " (0.75, 40, 'mean'): 0.723943661971831,\n",
      " (0.75, 40, 'std'): 0.03763489919968279,\n",
      " (0.75, 50, 'mean'): 0.7267605633802817,\n",
      " (0.75, 50, 'std'): 0.040796474247775334,\n",
      " (0.75, 60, 'mean'): 0.721830985915493,\n",
      " (0.75, 60, 'std'): 0.04121373207999867,\n",
      " (0.75, 75, 'mean'): 0.7239436619718309,\n",
      " (0.75, 75, 'std'): 0.032086720422238084,\n",
      " (0.75, 100, 'mean'): 0.7190140845070422,\n",
      " (0.75, 100, 'std'): 0.03541490411459199,\n",
      " (0.75, 125, 'mean'): 0.7147887323943662,\n",
      " (0.75, 125, 'std'): 0.03608081255619577,\n",
      " (0.75, 150, 'mean'): 0.7133802816901408,\n",
      " (0.75, 150, 'std'): 0.042376581361494046,\n",
      " (0.75, 175, 'mean'): 0.7119718309859155,\n",
      " (0.75, 175, 'std'): 0.04063203306127226,\n",
      " (0.75, 200, 'mean'): 0.7098591549295775,\n",
      " (0.75, 200, 'std'): 0.042697201102039783,\n",
      " (0.75, 400, 'mean'): 0.7056338028169014,\n",
      " (0.75, 400, 'std'): 0.039812095845359344,\n",
      " (1.0, 40, 'mean'): 0.7169014084507042,\n",
      " (1.0, 40, 'std'): 0.03344885094940258,\n",
      " (1.0, 50, 'mean'): 0.7190140845070422,\n",
      " (1.0, 50, 'std'): 0.04135787847894655,\n",
      " (1.0, 60, 'mean'): 0.7161971830985915,\n",
      " (1.0, 60, 'std'): 0.03946804582873817,\n",
      " (1.0, 75, 'mean'): 0.7126760563380281,\n",
      " (1.0, 75, 'std'): 0.03518308731492055,\n",
      " (1.0, 100, 'mean'): 0.7070422535211267,\n",
      " (1.0, 100, 'std'): 0.03495682717180523,\n",
      " (1.0, 125, 'mean'): 0.7028169014084507,\n",
      " (1.0, 125, 'std'): 0.04199451131232557,\n",
      " (1.0, 150, 'mean'): 0.7,\n",
      " (1.0, 150, 'std'): 0.04204172269464593,\n",
      " (1.0, 175, 'mean'): 0.7028169014084508,\n",
      " (1.0, 175, 'std'): 0.04507042253521128,\n",
      " (1.0, 200, 'mean'): 0.7049295774647887,\n",
      " (1.0, 200, 'std'): 0.04001710604274752,\n",
      " (1.0, 400, 'mean'): 0.6971830985915494,\n",
      " (1.0, 400, 'std'): 0.04341136621809137,\n",
      " (1.25, 40, 'mean'): 0.7147887323943662,\n",
      " (1.25, 40, 'std'): 0.03336720490276658,\n",
      " (1.25, 50, 'mean'): 0.7161971830985917,\n",
      " (1.25, 50, 'std'): 0.038449672379489305,\n",
      " (1.25, 60, 'mean'): 0.7112676056338028,\n",
      " (1.25, 60, 'std'): 0.03659262269511714,\n",
      " (1.25, 75, 'mean'): 0.6971830985915493,\n",
      " (1.25, 75, 'std'): 0.03672790087438111,\n",
      " (1.25, 100, 'mean'): 0.697887323943662,\n",
      " (1.25, 100, 'std'): 0.039518275624220264,\n",
      " (1.25, 125, 'mean'): 0.6929577464788732,\n",
      " (1.25, 125, 'std'): 0.03607393936581886,\n",
      " (1.25, 150, 'mean'): 0.6908450704225352,\n",
      " (1.25, 150, 'std'): 0.02928256744548139,\n",
      " (1.25, 175, 'mean'): 0.6922535211267606,\n",
      " (1.25, 175, 'std'): 0.028873239436619718,\n",
      " (1.25, 200, 'mean'): 0.6929577464788733,\n",
      " (1.25, 200, 'std'): 0.026574594738187626,\n",
      " (1.25, 400, 'mean'): 0.6880281690140845,\n",
      " (1.25, 400, 'std'): 0.03753593794714488,\n",
      " (1.5, 40, 'mean'): 0.7028169014084507,\n",
      " (1.5, 40, 'std'): 0.038288104842445596,\n",
      " (1.5, 50, 'mean'): 0.6964788732394366,\n",
      " (1.5, 50, 'std'): 0.03383947542741962,\n",
      " (1.5, 60, 'mean'): 0.6964788732394366,\n",
      " (1.5, 60, 'std'): 0.045361078634332155,\n",
      " (1.5, 75, 'mean'): 0.7070422535211268,\n",
      " (1.5, 75, 'std'): 0.04736668090366262,\n",
      " (1.5, 100, 'mean'): 0.702112676056338,\n",
      " (1.5, 100, 'std'): 0.04106907975161501,\n",
      " (1.5, 125, 'mean'): 0.695774647887324,\n",
      " (1.5, 125, 'std'): 0.034471093663437785,\n",
      " (1.5, 150, 'mean'): 0.6936619718309859,\n",
      " (1.5, 150, 'std'): 0.03381015178636001,\n",
      " (1.5, 175, 'mean'): 0.6943661971830986,\n",
      " (1.5, 175, 'std'): 0.03755575105907995,\n",
      " (1.5, 200, 'mean'): 0.6894366197183099,\n",
      " (1.5, 200, 'std'): 0.03610829223463175,\n",
      " (1.5, 400, 'mean'): 0.6809859154929576,\n",
      " (1.5, 400, 'std'): 0.03165882646899863,\n",
      " (2.0, 40, 'mean'): 0.3169014084507042,\n",
      " (2.0, 40, 'std'): 0.05545075967613951,\n",
      " (2.0, 50, 'mean'): 0.3169014084507042,\n",
      " (2.0, 50, 'std'): 0.05545075967613951,\n",
      " (2.0, 60, 'mean'): 0.3169014084507042,\n",
      " (2.0, 60, 'std'): 0.05545075967613951,\n",
      " (2.0, 75, 'mean'): 0.7133802816901408,\n",
      " (2.0, 75, 'std'): 0.03591549295774648,\n",
      " (2.0, 100, 'mean'): 0.3415492957746479,\n",
      " (2.0, 100, 'std'): 0.050904339066200566,\n",
      " (2.0, 125, 'mean'): 0.7133802816901408,\n",
      " (2.0, 125, 'std'): 0.03591549295774648,\n",
      " (2.0, 150, 'mean'): 0.3415492957746479,\n",
      " (2.0, 150, 'std'): 0.050904339066200566,\n",
      " (2.0, 175, 'mean'): 0.7133802816901408,\n",
      " (2.0, 175, 'std'): 0.03591549295774648,\n",
      " (2.0, 200, 'mean'): 0.3415492957746479,\n",
      " (2.0, 200, 'std'): 0.050904339066200566,\n",
      " (2.0, 400, 'mean'): 0.35,\n",
      " (2.0, 400, 'std'): 0.04960166662800094}\n"
     ]
    }
   ],
   "source": [
    "pprint(results)"
   ]
  },
  {
   "cell_type": "markdown",
   "id": "76c389b7-aee3-4127-9008-c74f349507f0",
   "metadata": {},
   "source": [
    "Tomamos ahora la mejor combinación de parámetros:"
   ]
  },
  {
   "cell_type": "code",
   "execution_count": 23,
   "id": "9ec940a5-b133-4893-9dde-7c310aa29249",
   "metadata": {},
   "outputs": [
    {
     "name": "stdout",
     "output_type": "stream",
     "text": [
      "{'lr': 0.4, 'n': 40}\n",
      "0.7394366197183099\n"
     ]
    }
   ],
   "source": [
    "print(best_parameters)\n",
    "print(best_acc)"
   ]
  },
  {
   "cell_type": "markdown",
   "id": "b1f34d9c-4810-4926-8dc8-cc7b42c7532c",
   "metadata": {},
   "source": [
    "# Entrenamiento usando los mejores parámetros"
   ]
  },
  {
   "cell_type": "markdown",
   "id": "0d819cf1-8a49-45bd-bf22-868baddd863a",
   "metadata": {},
   "source": [
    "## Función para evaluar las clasificaciones"
   ]
  },
  {
   "cell_type": "code",
   "execution_count": 24,
   "id": "0477217b-4b74-4e62-90c7-3dcf855423ee",
   "metadata": {},
   "outputs": [],
   "source": [
    "def display_classification_metrics(X_train, Y_train, X_test, Y_test, model = clf, outputs_prob = False):\n",
    "    \"\"\"Muestra algunas metricas en clasificacion\"\"\"\n",
    "    metrics = dict()\n",
    "    \n",
    "    # Realizamos las predicciones\n",
    "    predicted_training = clf.predict(X_train)\n",
    "    predicted_test = clf.predict(X_test)\n",
    "    \n",
    "    # Accuracy obtenido\n",
    "    metrics[\"train_acc\"] = clf.score(X_train, Y_train)\n",
    "    metrics[\"test_acc\"]= clf.score(X_test, Y_test)\n",
    "    \n",
    "    # Calculamos el valor de F1\n",
    "    metrics[\"train_f1\"] = f1_score(Y_train, predicted_training, average='macro')\n",
    "    metrics[\"test_f1\"] = f1_score(Y_test, predicted_test, average='macro')\n",
    "\n",
    "    # Calculamos el area bajo la curva ROC\n",
    "    if outputs_prob is False:\n",
    "        metrics[\"train_roc_auc\"] = roc_auc_score(Y_train, clf.decision_function(X_train))\n",
    "        metrics[\"test_roc_auc\"] = roc_auc_score(Y_test, clf.decision_function(X_test))\n",
    "    else:\n",
    "        metrics[\"train_roc_auc\"] = roc_auc_score(Y_train, clf.predict_proba(X_train)[:, 1])\n",
    "        metrics[\"test_roc_auc\"] = roc_auc_score(Y_test, clf.predict_proba(X_test)[:, 1])\n",
    "        \n",
    "    # Mostramos las metricas\n",
    "    print(\"Metricas obtenidas:\")\n",
    "    pprint(metrics)\n",
    "    print(\"\")\n",
    "    \n",
    "    # Mostramos las matrices de confusion\n",
    "    print(\"Matriz de confusion en training:\")\n",
    "    matrix_train = confusion_matrix(Y_train, predicted_training)\n",
    "    pprint(matrix_train)\n",
    "    print(\"\")\n",
    "\n",
    "    print(\"Matriz de confusion en test:\")\n",
    "    matrix_test = confusion_matrix(Y_test, predicted_test)\n",
    "    pprint(matrix_test)\n",
    "    print(\"\")"
   ]
  },
  {
   "cell_type": "markdown",
   "id": "0ac057cb-2d0b-4991-8fad-fd8642799295",
   "metadata": {},
   "source": [
    "Una vez que, con *Cross Validation*, hemos explorado los posibles parámetros, procedemos a entrenar los modelos con los mejores parámetros encontrados usando ese procedimiento:"
   ]
  },
  {
   "cell_type": "markdown",
   "id": "b340fea1-7073-4011-a6ad-89c5249982e9",
   "metadata": {
    "tags": []
   },
   "source": [
    "## Support Vector Machine"
   ]
  },
  {
   "cell_type": "code",
   "execution_count": 25,
   "id": "0b8cdb00-c9ff-4d73-b07b-d6f5f092aef6",
   "metadata": {},
   "outputs": [
    {
     "name": "stdout",
     "output_type": "stream",
     "text": [
      "Accuracy en training: 0.7807637906647807\n",
      "Accuracy en test: 0.73\n"
     ]
    }
   ],
   "source": [
    "# Definimos el modelo\n",
    "kernel = \"rbf\"\n",
    "C = 1.1\n",
    "clf = SVC(kernel=kernel, C=C, random_state=RANDOM_SEED)\n",
    "\n",
    "# Entrenamos con el training\n",
    "clf.fit(X_train, Y_train)\n",
    "\n",
    "# Evaluamos en ambos datasets\n",
    "Y_pred_training = clf.predict(X_train)\n",
    "Y_pred_test = clf.predict(X_test)\n",
    "\n",
    "print(f\"Accuracy en training: {clf.score(X_train, Y_train)}\")\n",
    "print(f\"Accuracy en test: {clf.score(X_test, Y_test)}\")"
   ]
  },
  {
   "cell_type": "markdown",
   "id": "493b82fb-b927-45bc-9ab5-e5afd126a3e7",
   "metadata": {},
   "source": [
    "Mostramos ahora métricas más avanzadas:"
   ]
  },
  {
   "cell_type": "code",
   "execution_count": 26,
   "id": "a3f274da-ba52-439b-b0a7-84784bc5c88a",
   "metadata": {},
   "outputs": [
    {
     "name": "stdout",
     "output_type": "stream",
     "text": [
      "Metricas obtenidas:\n",
      "{'test_acc': 0.73,\n",
      " 'test_f1': 0.593128390596745,\n",
      " 'test_roc_auc': 0.7689285714285715,\n",
      " 'train_acc': 0.7807637906647807,\n",
      " 'train_f1': 0.653940283896231,\n",
      " 'train_roc_auc': 0.8929565217391305}\n",
      "\n",
      "Matriz de confusion en training:\n",
      "array([[490,  10],\n",
      "       [145,  62]], dtype=int64)\n",
      "\n",
      "Matriz de confusion en test:\n",
      "array([[131,   9],\n",
      "       [ 45,  15]], dtype=int64)\n",
      "\n"
     ]
    }
   ],
   "source": [
    "display_classification_metrics(X_train, Y_train, X_test, Y_test, model = clf)"
   ]
  },
  {
   "cell_type": "markdown",
   "id": "52d0df72-a0a5-4570-966f-8755076b0311",
   "metadata": {
    "tags": []
   },
   "source": [
    "## MLP"
   ]
  },
  {
   "cell_type": "code",
   "execution_count": 27,
   "id": "5b20cde1-1697-4659-a034-ed1a0ce5da38",
   "metadata": {},
   "outputs": [
    {
     "name": "stdout",
     "output_type": "stream",
     "text": [
      "Accuracy en training: 0.7072135785007072\n",
      "Accuracy en test: 0.7\n"
     ]
    }
   ],
   "source": [
    "# Definimos el modelo\n",
    "clf = MLPClassifier(\n",
    "    activation = \"relu\",\n",
    "    solver = \"adam\",\n",
    "    learning_rate_init = 0.25,\n",
    "    alpha = 0.1,\n",
    "    max_iter = 10,\n",
    "    random_state = RANDOM_SEED\n",
    ")\n",
    "\n",
    "# Entrenamos con el training\n",
    "clf.fit(X_train, Y_train)\n",
    "\n",
    "# Evaluamos en ambos datasets\n",
    "Y_pred_training = clf.predict(X_train)\n",
    "Y_pred_test = clf.predict(X_test)\n",
    "\n",
    "print(f\"Accuracy en training: {clf.score(X_train, Y_train)}\")\n",
    "print(f\"Accuracy en test: {clf.score(X_test, Y_test)}\")"
   ]
  },
  {
   "cell_type": "markdown",
   "id": "e49c8a35-e485-4cc1-bc1a-4d98ea4de4a8",
   "metadata": {},
   "source": [
    "Mostramos ahora métricas más avanzadas:"
   ]
  },
  {
   "cell_type": "code",
   "execution_count": 28,
   "id": "ac1a3476-152c-4e97-b80c-5671dcb1096f",
   "metadata": {},
   "outputs": [
    {
     "name": "stdout",
     "output_type": "stream",
     "text": [
      "Metricas obtenidas:\n",
      "{'test_acc': 0.7,\n",
      " 'test_f1': 0.4117647058823529,\n",
      " 'test_roc_auc': 0.7591666666666667,\n",
      " 'train_acc': 0.7072135785007072,\n",
      " 'train_f1': 0.4142502071251036,\n",
      " 'train_roc_auc': 0.6180966183574879}\n",
      "\n",
      "Matriz de confusion en training:\n",
      "array([[500,   0],\n",
      "       [207,   0]], dtype=int64)\n",
      "\n",
      "Matriz de confusion en test:\n",
      "array([[140,   0],\n",
      "       [ 60,   0]], dtype=int64)\n",
      "\n"
     ]
    }
   ],
   "source": [
    "display_classification_metrics(X_train, Y_train, X_test, Y_test, model = clf, outputs_prob = True)"
   ]
  },
  {
   "cell_type": "markdown",
   "id": "cb2e50ac-c182-4c0b-8c2e-efb9eedf8b35",
   "metadata": {
    "tags": []
   },
   "source": [
    "## AdaBoost"
   ]
  },
  {
   "cell_type": "code",
   "execution_count": 29,
   "id": "533cfacc-0f3d-46f7-b371-3f00d6b22216",
   "metadata": {},
   "outputs": [
    {
     "name": "stdout",
     "output_type": "stream",
     "text": [
      "Accuracy en training: 0.7751060820367751\n",
      "Accuracy en test: 0.765\n"
     ]
    }
   ],
   "source": [
    "# Definimos el modelo\n",
    "clf = AdaBoostClassifier(\n",
    "    n_estimators = 40,\n",
    "    learning_rate = 0.4,\n",
    "    random_state = RANDOM_SEED\n",
    ")\n",
    "\n",
    "# Entrenamos con el training\n",
    "clf.fit(X_train, Y_train)\n",
    "\n",
    "# Evaluamos en ambos datasets\n",
    "Y_pred_training = clf.predict(X_train)\n",
    "Y_pred_test = clf.predict(X_test)\n",
    "\n",
    "print(f\"Accuracy en training: {clf.score(X_train, Y_train)}\")\n",
    "print(f\"Accuracy en test: {clf.score(X_test, Y_test)}\")"
   ]
  },
  {
   "cell_type": "markdown",
   "id": "5d4e26df-766a-46ae-97cd-2c1b3b90a64d",
   "metadata": {},
   "source": [
    "Mostramos ahora métricas más avanzadas:"
   ]
  },
  {
   "cell_type": "code",
   "execution_count": 30,
   "id": "e9df048a-1519-45f0-a1cf-1c1a69518da5",
   "metadata": {},
   "outputs": [
    {
     "name": "stdout",
     "output_type": "stream",
     "text": [
      "Metricas obtenidas:\n",
      "{'test_acc': 0.765,\n",
      " 'test_f1': 0.6489262371615313,\n",
      " 'test_roc_auc': 0.8282738095238095,\n",
      " 'train_acc': 0.7751060820367751,\n",
      " 'train_f1': 0.6676580585078863,\n",
      " 'train_roc_auc': 0.8134251207729469}\n",
      "\n",
      "Matriz de confusion en training:\n",
      "array([[475,  25],\n",
      "       [134,  73]], dtype=int64)\n",
      "\n",
      "Matriz de confusion en test:\n",
      "array([[134,   6],\n",
      "       [ 41,  19]], dtype=int64)\n",
      "\n"
     ]
    }
   ],
   "source": [
    "display_classification_metrics(X_train, Y_train, X_test, Y_test, model = clf)"
   ]
  },
  {
   "cell_type": "markdown",
   "id": "e8c4a714-d846-49f2-9d02-c42b62c7bf9e",
   "metadata": {},
   "source": [
    "# Repetimos todo el proceso, pero usando PCA"
   ]
  },
  {
   "cell_type": "markdown",
   "id": "d1f505dd-7797-417c-9c1d-0bc18311acc0",
   "metadata": {},
   "source": [
    "Usamos la técnica de `PCA` para reducir dimensionalidad, y ver si así podemos mejorar los resultados, o al menos mantenerlos, generando modelos mucho más simples:"
   ]
  },
  {
   "cell_type": "code",
   "execution_count": 31,
   "id": "0755864e-bd44-4761-81ee-df8b79614c2b",
   "metadata": {},
   "outputs": [
    {
     "name": "stdout",
     "output_type": "stream",
     "text": [
      "[0.1457626  0.11261286 0.09523864 0.08331368 0.07945522 0.06685725\n",
      " 0.05942892 0.05029678 0.04576356 0.0397275 ]\n"
     ]
    }
   ],
   "source": [
    "pca = PCA(n_components=10)\n",
    "pca.fit(X_train)\n",
    "\n",
    "X_train = pca.transform(X_train)\n",
    "X_test = pca.transform(X_test)\n",
    "\n",
    "print(pca.explained_variance_ratio_)"
   ]
  },
  {
   "cell_type": "markdown",
   "id": "1ba27d79-bf6c-4739-b311-65bd40a5eb49",
   "metadata": {},
   "source": [
    "# Selección de hiperparámetros usando K-Fold Cross Validation"
   ]
  },
  {
   "cell_type": "markdown",
   "id": "29201ae2-8738-4f23-b5cc-9dd7b9581724",
   "metadata": {},
   "source": [
    "Los algoritmos con los que vamos a trabajar son *SVM*, *MLP* y *AdaBoost*. Los hiperparámetros que definen estos modelos y su aprendizaje los escogemos usando *K-Fold Cross Validation*. Gracias a esta técnica podemos usar el *training set* tanto para entrenar con distintos parámetros como para validar dichos modelos. Se puede consultar más información sobre esta técnica en la [documentación oficial de sklearn](https://scikit-learn.org/stable/modules/cross_validation.html)"
   ]
  },
  {
   "cell_type": "markdown",
   "id": "e5e7078a-b4b5-4258-a61d-506dae969ba4",
   "metadata": {
    "tags": []
   },
   "source": [
    "## Support Vector Machine"
   ]
  },
  {
   "cell_type": "markdown",
   "id": "974a737a-5043-4970-8a3e-dcb8b8d40287",
   "metadata": {},
   "source": [
    "Exploramos todas las combinaciones de parámetros y aplicamos Cross Validation:"
   ]
  },
  {
   "cell_type": "code",
   "execution_count": 32,
   "id": "66a76939-aca4-42a2-9e7c-5ba38fa45b02",
   "metadata": {},
   "outputs": [
    {
     "name": "stdout",
     "output_type": "stream",
     "text": [
      "Computando CV para 0.3, rbf\n",
      "Computando CV para 0.3, linear\n",
      "Computando CV para 0.3, poly\n",
      "Computando CV para 0.5, rbf\n",
      "Computando CV para 0.5, linear\n",
      "Computando CV para 0.5, poly\n",
      "Computando CV para 0.8, rbf\n",
      "Computando CV para 0.8, linear\n",
      "Computando CV para 0.8, poly\n",
      "Computando CV para 0.9, rbf\n",
      "Computando CV para 0.9, linear\n",
      "Computando CV para 0.9, poly\n",
      "Computando CV para 1.0, rbf\n",
      "Computando CV para 1.0, linear\n",
      "Computando CV para 1.0, poly\n",
      "Computando CV para 1.05, rbf\n",
      "Computando CV para 1.05, linear\n",
      "Computando CV para 1.05, poly\n",
      "Computando CV para 1.1, rbf\n",
      "Computando CV para 1.1, linear\n",
      "Computando CV para 1.1, poly\n",
      "Computando CV para 1.15, rbf\n",
      "Computando CV para 1.15, linear\n",
      "Computando CV para 1.15, poly\n",
      "Computando CV para 1.2, rbf\n",
      "Computando CV para 1.2, linear\n",
      "Computando CV para 1.2, poly\n",
      "Computando CV para 1.3, rbf\n",
      "Computando CV para 1.3, linear\n",
      "Computando CV para 1.3, poly\n",
      "Computando CV para 1.4, rbf\n",
      "Computando CV para 1.4, linear\n",
      "Computando CV para 1.4, poly\n",
      "Computando CV para 1.5, rbf\n",
      "Computando CV para 1.5, linear\n",
      "Computando CV para 1.5, poly\n",
      "Computando CV para 2.0, rbf\n",
      "Computando CV para 2.0, linear\n",
      "Computando CV para 2.0, poly\n",
      "Computando CV para 3.0, rbf\n",
      "Computando CV para 3.0, linear\n",
      "Computando CV para 3.0, poly\n",
      "Computando CV para 5.0, rbf\n",
      "Computando CV para 5.0, linear\n",
      "Computando CV para 5.0, poly\n"
     ]
    }
   ],
   "source": [
    "# Valores que fijan la penalizacion de regularizacion\n",
    "C_values = [0.3, 0.5, 0.8, 0.9, 1.0, 1.05, 1.1, 1.15, 1.2, 1.3, 1.4, 1.5, 2.0, 3.0, 5.0]\n",
    "\n",
    "# Tipos de kernel que podemos aplicar\n",
    "kernel_values = [\"rbf\", \"linear\", \"poly\"]\n",
    "\n",
    "# Diccionario en el que vamos a guardar los resultados de CV\n",
    "results = dict()\n",
    "\n",
    "# Para hacer 5 fold cross validation\n",
    "cv = ShuffleSplit(n_splits=10, test_size=0.2, random_state=RANDOM_SEED)\n",
    "\n",
    "# Para precomputar la mejor combinacion de parametros\n",
    "best_parameters = {\n",
    "    \"C\": None,\n",
    "    \"kernel\": None,\n",
    "}\n",
    "best_acc = 0.0\n",
    "\n",
    "# Probamos con todas las combinaciones de parametros\n",
    "for C in C_values:\n",
    "    for kernel in kernel_values:\n",
    "        \n",
    "        # Para ver el proceso de ejecucion\n",
    "        print(f\"Computando CV para {C}, {kernel}\")\n",
    "        \n",
    "        # Definimos el clasificador, usando los parametros que movemos y fijando\n",
    "        # el resto de parametros necesarios. \n",
    "        clf = SVC(kernel=kernel, C=C, random_state=RANDOM_SEED)\n",
    "        \n",
    "        # Aplicamos el algoritmo \n",
    "        scores = cross_val_score(clf, X_train, Y_train, cv=cv, scoring='accuracy')\n",
    "        \n",
    "        # Guardamos los resultados\n",
    "        results[C, kernel, \"mean\"] = scores.mean()\n",
    "        results[C, kernel, \"std\"] = scores.std()\n",
    "        \n",
    "        # Comprobamos si hemos mejorado los resultados\n",
    "        if results[C, kernel, \"mean\"] > best_acc:\n",
    "            best_acc = results[C, kernel, \"mean\"]\n",
    "            best_parameters = {\n",
    "                \"C\": C,\n",
    "                \"kernel\": kernel\n",
    "            }"
   ]
  },
  {
   "cell_type": "markdown",
   "id": "d39b7ce9-adab-4b16-97bc-7a0a3e2d6910",
   "metadata": {},
   "source": [
    "Mostramos todos los parámetros con sus métricas alcanzadas:"
   ]
  },
  {
   "cell_type": "code",
   "execution_count": 33,
   "id": "445d55e2-57d9-46f2-bd9a-b442a0dbedbc",
   "metadata": {},
   "outputs": [
    {
     "name": "stdout",
     "output_type": "stream",
     "text": [
      "{(0.3, 'linear', 'mean'): 0.7133802816901408,\n",
      " (0.3, 'linear', 'std'): 0.03591549295774648,\n",
      " (0.3, 'poly', 'mean'): 0.7112676056338028,\n",
      " (0.3, 'poly', 'std'): 0.036456842550830384,\n",
      " (0.3, 'rbf', 'mean'): 0.7140845070422536,\n",
      " (0.3, 'rbf', 'std'): 0.036619718309859155,\n",
      " (0.5, 'linear', 'mean'): 0.7133802816901408,\n",
      " (0.5, 'linear', 'std'): 0.03591549295774648,\n",
      " (0.5, 'poly', 'mean'): 0.7112676056338029,\n",
      " (0.5, 'poly', 'std'): 0.038572011091913105,\n",
      " (0.5, 'rbf', 'mean'): 0.7169014084507042,\n",
      " (0.5, 'rbf', 'std'): 0.03723747624338672,\n",
      " (0.8, 'linear', 'mean'): 0.7133802816901408,\n",
      " (0.8, 'linear', 'std'): 0.03591549295774648,\n",
      " (0.8, 'poly', 'mean'): 0.7042253521126761,\n",
      " (0.8, 'poly', 'std'): 0.03831400143305758,\n",
      " (0.8, 'rbf', 'mean'): 0.7232394366197183,\n",
      " (0.8, 'rbf', 'std'): 0.02817781552639798,\n",
      " (0.9, 'linear', 'mean'): 0.7133802816901408,\n",
      " (0.9, 'linear', 'std'): 0.03591549295774648,\n",
      " (0.9, 'poly', 'mean'): 0.6985915492957746,\n",
      " (0.9, 'poly', 'std'): 0.03750289283294184,\n",
      " (0.9, 'rbf', 'mean'): 0.7190140845070422,\n",
      " (0.9, 'rbf', 'std'): 0.02876999748706409,\n",
      " (1.0, 'linear', 'mean'): 0.7133802816901408,\n",
      " (1.0, 'linear', 'std'): 0.03591549295774648,\n",
      " (1.0, 'poly', 'mean'): 0.6992957746478874,\n",
      " (1.0, 'poly', 'std'): 0.03883469205341477,\n",
      " (1.0, 'rbf', 'mean'): 0.7211267605633802,\n",
      " (1.0, 'rbf', 'std'): 0.02749186098020161,\n",
      " (1.05, 'linear', 'mean'): 0.7133802816901408,\n",
      " (1.05, 'linear', 'std'): 0.03591549295774648,\n",
      " (1.05, 'poly', 'mean'): 0.7,\n",
      " (1.05, 'poly', 'std'): 0.036347853241025185,\n",
      " (1.05, 'rbf', 'mean'): 0.7218309859154929,\n",
      " (1.05, 'rbf', 'std'): 0.02838823150809349,\n",
      " (1.1, 'linear', 'mean'): 0.7133802816901408,\n",
      " (1.1, 'linear', 'std'): 0.03591549295774648,\n",
      " (1.1, 'poly', 'mean'): 0.7007042253521127,\n",
      " (1.1, 'poly', 'std'): 0.03621800245246138,\n",
      " (1.1, 'rbf', 'mean'): 0.7225352112676056,\n",
      " (1.1, 'rbf', 'std'): 0.03199384983549452,\n",
      " (1.15, 'linear', 'mean'): 0.7133802816901408,\n",
      " (1.15, 'linear', 'std'): 0.03591549295774648,\n",
      " (1.15, 'poly', 'mean'): 0.6985915492957747,\n",
      " (1.15, 'poly', 'std'): 0.03867473300773517,\n",
      " (1.15, 'rbf', 'mean'): 0.7204225352112676,\n",
      " (1.15, 'rbf', 'std'): 0.02887323943661971,\n",
      " (1.2, 'linear', 'mean'): 0.7133802816901408,\n",
      " (1.2, 'linear', 'std'): 0.03591549295774648,\n",
      " (1.2, 'poly', 'mean'): 0.6992957746478873,\n",
      " (1.2, 'poly', 'std'): 0.03806075807569483,\n",
      " (1.2, 'rbf', 'mean'): 0.7183098591549296,\n",
      " (1.2, 'rbf', 'std'): 0.026908412921891264,\n",
      " (1.3, 'linear', 'mean'): 0.7133802816901408,\n",
      " (1.3, 'linear', 'std'): 0.03591549295774648,\n",
      " (1.3, 'poly', 'mean'): 0.697887323943662,\n",
      " (1.3, 'poly', 'std'): 0.037720455608005875,\n",
      " (1.3, 'rbf', 'mean'): 0.7147887323943661,\n",
      " (1.3, 'rbf', 'std'): 0.026018243946353763,\n",
      " (1.4, 'linear', 'mean'): 0.7133802816901408,\n",
      " (1.4, 'linear', 'std'): 0.03591549295774648,\n",
      " (1.4, 'poly', 'mean'): 0.6964788732394366,\n",
      " (1.4, 'poly', 'std'): 0.03624537811959936,\n",
      " (1.4, 'rbf', 'mean'): 0.7140845070422536,\n",
      " (1.4, 'rbf', 'std'): 0.023609936076394673,\n",
      " (1.5, 'linear', 'mean'): 0.7133802816901408,\n",
      " (1.5, 'linear', 'std'): 0.03591549295774648,\n",
      " (1.5, 'poly', 'mean'): 0.6943661971830986,\n",
      " (1.5, 'poly', 'std'): 0.037423465508694166,\n",
      " (1.5, 'rbf', 'mean'): 0.7091549295774648,\n",
      " (1.5, 'rbf', 'std'): 0.022056985582205403,\n",
      " (2.0, 'linear', 'mean'): 0.7133802816901408,\n",
      " (2.0, 'linear', 'std'): 0.03591549295774648,\n",
      " (2.0, 'poly', 'mean'): 0.6908450704225352,\n",
      " (2.0, 'poly', 'std'): 0.03678861376509573,\n",
      " (2.0, 'rbf', 'mean'): 0.7070422535211267,\n",
      " (2.0, 'rbf', 'std'): 0.02402636916793237,\n",
      " (3.0, 'linear', 'mean'): 0.7133802816901408,\n",
      " (3.0, 'linear', 'std'): 0.03591549295774648,\n",
      " (3.0, 'poly', 'mean'): 0.6781690140845071,\n",
      " (3.0, 'poly', 'std'): 0.03227934263765026,\n",
      " (3.0, 'rbf', 'mean'): 0.6992957746478873,\n",
      " (3.0, 'rbf', 'std'): 0.026546587077423623,\n",
      " (5.0, 'linear', 'mean'): 0.7133802816901408,\n",
      " (5.0, 'linear', 'std'): 0.03591549295774648,\n",
      " (5.0, 'poly', 'mean'): 0.6788732394366198,\n",
      " (5.0, 'poly', 'std'): 0.029409314109607197,\n",
      " (5.0, 'rbf', 'mean'): 0.6950704225352112,\n",
      " (5.0, 'rbf', 'std'): 0.02378781092120358}\n"
     ]
    }
   ],
   "source": [
    "pprint(results)"
   ]
  },
  {
   "cell_type": "markdown",
   "id": "7f9036b5-2d42-4350-a8a2-2031790ea3ec",
   "metadata": {},
   "source": [
    "Tomamos ahora la mejor combinación de parámetros:"
   ]
  },
  {
   "cell_type": "code",
   "execution_count": 34,
   "id": "794d866b-f7b1-4620-9e7a-553d1e594d91",
   "metadata": {},
   "outputs": [
    {
     "name": "stdout",
     "output_type": "stream",
     "text": [
      "{'C': 0.8, 'kernel': 'rbf'}\n",
      "0.7232394366197183\n"
     ]
    }
   ],
   "source": [
    "print(best_parameters)\n",
    "print(best_acc)"
   ]
  },
  {
   "cell_type": "markdown",
   "id": "250d2883-863a-4766-a48e-fd1367ade39a",
   "metadata": {
    "tags": []
   },
   "source": [
    "## MLP"
   ]
  },
  {
   "cell_type": "markdown",
   "id": "c875d677-c3f6-47b9-995c-d039f9c6d380",
   "metadata": {},
   "source": [
    "Exploramos todas las combinaciones de parámetros y aplicamos Cross Validation:"
   ]
  },
  {
   "cell_type": "code",
   "execution_count": 35,
   "id": "ac2e1eac-4476-4f74-9336-25ee41a58f6d",
   "metadata": {},
   "outputs": [
    {
     "name": "stdout",
     "output_type": "stream",
     "text": [
      "Computando CV para 0.001, 0.001\n",
      "Computando CV para 0.001, 0.01\n",
      "Computando CV para 0.001, 0.1\n",
      "Computando CV para 0.001, 0.5\n",
      "Computando CV para 0.01, 0.001\n",
      "Computando CV para 0.01, 0.01\n",
      "Computando CV para 0.01, 0.1\n",
      "Computando CV para 0.01, 0.5\n",
      "Computando CV para 0.1, 0.001\n",
      "Computando CV para 0.1, 0.01\n",
      "Computando CV para 0.1, 0.1\n",
      "Computando CV para 0.1, 0.5\n",
      "Computando CV para 0.25, 0.001\n",
      "Computando CV para 0.25, 0.01\n",
      "Computando CV para 0.25, 0.1\n",
      "Computando CV para 0.25, 0.5\n",
      "Computando CV para 0.5, 0.001\n",
      "Computando CV para 0.5, 0.01\n",
      "Computando CV para 0.5, 0.1\n",
      "Computando CV para 0.5, 0.5\n"
     ]
    }
   ],
   "source": [
    "# Valores para la regularizacion\n",
    "alpha_values = [0.001, 0.01, 0.1, 0.5]\n",
    "\n",
    "# Valores del learning rate\n",
    "lr_values = [0.001, 0.01, 0.1, 0.25, 0.5]\n",
    "\n",
    "# Diccionario en el que vamos a guardar los resultados de CV\n",
    "results = dict()\n",
    "\n",
    "# Para hacer 5 fold cross validation\n",
    "cv = ShuffleSplit(n_splits=10, test_size=0.2, random_state=RANDOM_SEED)\n",
    "\n",
    "# Para precomputar la mejor combinacion de parametros\n",
    "best_parameters = {\n",
    "    \"lr\": None,\n",
    "    \"alpha\": None,\n",
    "}\n",
    "best_acc = 0.0\n",
    "\n",
    "# Probamos con todas las combinaciones de parametros\n",
    "for lr in lr_values:\n",
    "    for alpha in alpha_values:\n",
    "        \n",
    "        # Para ver el proceso de ejecucion\n",
    "        print(f\"Computando CV para {lr}, {alpha}\")\n",
    "        \n",
    "        # Definimos el clasificador, usando los parametros que movemos y fijando\n",
    "        # el resto de parametros necesarios\n",
    "        clf = MLPClassifier(\n",
    "            activation = \"relu\",\n",
    "            solver = \"adam\",\n",
    "            learning_rate_init = lr,\n",
    "            alpha = alpha,\n",
    "            max_iter = 10,\n",
    "            random_state = RANDOM_SEED\n",
    "        )\n",
    "        \n",
    "        # Aplicamos el algoritmo \n",
    "        scores = cross_val_score(clf, X_train, Y_train, cv=cv, scoring='accuracy')\n",
    "        \n",
    "        # Guardamos los resultados\n",
    "        results[lr, alpha, \"mean\"] = scores.mean()\n",
    "        results[lr, alpha, \"std\"] = scores.std()\n",
    "        \n",
    "        # Comprobamos si hemos mejorado los resultados\n",
    "        if results[lr, alpha, \"mean\"] > best_acc:\n",
    "            best_acc = results[lr, alpha, \"mean\"]\n",
    "            best_parameters = {\n",
    "                \"lr\": lr,\n",
    "                \"alpha\": alpha\n",
    "            }"
   ]
  },
  {
   "cell_type": "markdown",
   "id": "57ef20a7-28e1-4869-8715-62fd84651980",
   "metadata": {},
   "source": [
    "Mostramos todos los parámetros con sus métricas alcanzadas:"
   ]
  },
  {
   "cell_type": "code",
   "execution_count": 36,
   "id": "1f072233-bb89-4e31-ab0a-efe96e008d77",
   "metadata": {},
   "outputs": [
    {
     "name": "stdout",
     "output_type": "stream",
     "text": [
      "{(0.001, 0.001, 'mean'): 0.7140845070422536,\n",
      " (0.001, 0.001, 'std'): 0.036619718309859155,\n",
      " (0.001, 0.01, 'mean'): 0.7140845070422536,\n",
      " (0.001, 0.01, 'std'): 0.036619718309859155,\n",
      " (0.001, 0.1, 'mean'): 0.7140845070422536,\n",
      " (0.001, 0.1, 'std'): 0.036619718309859155,\n",
      " (0.001, 0.5, 'mean'): 0.7140845070422536,\n",
      " (0.001, 0.5, 'std'): 0.036619718309859155,\n",
      " (0.01, 0.001, 'mean'): 0.7021126760563381,\n",
      " (0.01, 0.001, 'std'): 0.030379795225525346,\n",
      " (0.01, 0.01, 'mean'): 0.7021126760563381,\n",
      " (0.01, 0.01, 'std'): 0.030379795225525346,\n",
      " (0.01, 0.1, 'mean'): 0.702112676056338,\n",
      " (0.01, 0.1, 'std'): 0.029214744384072594,\n",
      " (0.01, 0.5, 'mean'): 0.7021126760563381,\n",
      " (0.01, 0.5, 'std'): 0.0252049720678497,\n",
      " (0.1, 0.001, 'mean'): 0.6887323943661972,\n",
      " (0.1, 0.001, 'std'): 0.024557177146708017,\n",
      " (0.1, 0.01, 'mean'): 0.6901408450704226,\n",
      " (0.1, 0.01, 'std'): 0.02226956098710127,\n",
      " (0.1, 0.1, 'mean'): 0.6845070422535211,\n",
      " (0.1, 0.1, 'std'): 0.01857874078629988,\n",
      " (0.1, 0.5, 'mean'): 0.7091549295774647,\n",
      " (0.1, 0.5, 'std'): 0.025204972067849704,\n",
      " (0.25, 0.001, 'mean'): 0.6830985915492958,\n",
      " (0.25, 0.001, 'std'): 0.029035955109983518,\n",
      " (0.25, 0.01, 'mean'): 0.671830985915493,\n",
      " (0.25, 0.01, 'std'): 0.03291076463534626,\n",
      " (0.25, 0.1, 'mean'): 0.6746478873239437,\n",
      " (0.25, 0.1, 'std'): 0.02795694822715382,\n",
      " (0.25, 0.5, 'mean'): 0.7112676056338028,\n",
      " (0.25, 0.5, 'std'): 0.04306728127160747,\n",
      " (0.5, 0.001, 'mean'): 0.6922535211267606,\n",
      " (0.5, 0.001, 'std'): 0.02764476961463455,\n",
      " (0.5, 0.01, 'mean'): 0.6985915492957746,\n",
      " (0.5, 0.01, 'std'): 0.020116699798712265,\n",
      " (0.5, 0.1, 'mean'): 0.7,\n",
      " (0.5, 0.1, 'std'): 0.03593619949907907,\n",
      " (0.5, 0.5, 'mean'): 0.7126760563380282,\n",
      " (0.5, 0.5, 'std'): 0.037897532526968196}\n"
     ]
    }
   ],
   "source": [
    "pprint(results)"
   ]
  },
  {
   "cell_type": "markdown",
   "id": "89f693c8-7df7-4457-901b-9362615e3ed1",
   "metadata": {},
   "source": [
    "Tomamos ahora la mejor combinación de parámetros:"
   ]
  },
  {
   "cell_type": "code",
   "execution_count": 37,
   "id": "6abca23a-c142-4ff8-b5fa-83683d9ae5d0",
   "metadata": {},
   "outputs": [
    {
     "name": "stdout",
     "output_type": "stream",
     "text": [
      "{'lr': 0.001, 'alpha': 0.001}\n",
      "0.7140845070422536\n"
     ]
    }
   ],
   "source": [
    "print(best_parameters)\n",
    "print(best_acc)"
   ]
  },
  {
   "cell_type": "markdown",
   "id": "d580d8e7-d921-4026-8d75-bcbc2ca74c5b",
   "metadata": {
    "tags": []
   },
   "source": [
    "## AdaBoost"
   ]
  },
  {
   "cell_type": "markdown",
   "id": "709d7191-4394-4344-bcf2-d0dd3d5db842",
   "metadata": {},
   "source": [
    "Exploramos todas las combinaciones de parámetros y aplicamos Cross Validation:"
   ]
  },
  {
   "cell_type": "code",
   "execution_count": 38,
   "id": "bd0c878e-0dc7-4569-a55c-450a974a7ec1",
   "metadata": {},
   "outputs": [
    {
     "name": "stdout",
     "output_type": "stream",
     "text": [
      "Computando CV para 0.4, 0.5\n",
      "Computando CV para 0.5, 0.5\n",
      "Computando CV para 0.6, 0.5\n",
      "Computando CV para 0.75, 0.5\n",
      "Computando CV para 1.0, 0.5\n",
      "Computando CV para 1.25, 0.5\n",
      "Computando CV para 1.5, 0.5\n",
      "Computando CV para 2.0, 0.5\n",
      "Computando CV para 0.4, 0.5\n",
      "Computando CV para 0.5, 0.5\n",
      "Computando CV para 0.6, 0.5\n",
      "Computando CV para 0.75, 0.5\n",
      "Computando CV para 1.0, 0.5\n",
      "Computando CV para 1.25, 0.5\n",
      "Computando CV para 1.5, 0.5\n",
      "Computando CV para 2.0, 0.5\n",
      "Computando CV para 0.4, 0.5\n",
      "Computando CV para 0.5, 0.5\n",
      "Computando CV para 0.6, 0.5\n",
      "Computando CV para 0.75, 0.5\n",
      "Computando CV para 1.0, 0.5\n",
      "Computando CV para 1.25, 0.5\n",
      "Computando CV para 1.5, 0.5\n",
      "Computando CV para 2.0, 0.5\n",
      "Computando CV para 0.4, 0.5\n",
      "Computando CV para 0.5, 0.5\n",
      "Computando CV para 0.6, 0.5\n",
      "Computando CV para 0.75, 0.5\n",
      "Computando CV para 1.0, 0.5\n",
      "Computando CV para 1.25, 0.5\n",
      "Computando CV para 1.5, 0.5\n",
      "Computando CV para 2.0, 0.5\n",
      "Computando CV para 0.4, 0.5\n",
      "Computando CV para 0.5, 0.5\n",
      "Computando CV para 0.6, 0.5\n",
      "Computando CV para 0.75, 0.5\n",
      "Computando CV para 1.0, 0.5\n",
      "Computando CV para 1.25, 0.5\n",
      "Computando CV para 1.5, 0.5\n",
      "Computando CV para 2.0, 0.5\n",
      "Computando CV para 0.4, 0.5\n",
      "Computando CV para 0.5, 0.5\n",
      "Computando CV para 0.6, 0.5\n",
      "Computando CV para 0.75, 0.5\n",
      "Computando CV para 1.0, 0.5\n",
      "Computando CV para 1.25, 0.5\n",
      "Computando CV para 1.5, 0.5\n",
      "Computando CV para 2.0, 0.5\n",
      "Computando CV para 0.4, 0.5\n",
      "Computando CV para 0.5, 0.5\n",
      "Computando CV para 0.6, 0.5\n",
      "Computando CV para 0.75, 0.5\n",
      "Computando CV para 1.0, 0.5\n",
      "Computando CV para 1.25, 0.5\n",
      "Computando CV para 1.5, 0.5\n",
      "Computando CV para 2.0, 0.5\n",
      "Computando CV para 0.4, 0.5\n",
      "Computando CV para 0.5, 0.5\n",
      "Computando CV para 0.6, 0.5\n",
      "Computando CV para 0.75, 0.5\n",
      "Computando CV para 1.0, 0.5\n",
      "Computando CV para 1.25, 0.5\n",
      "Computando CV para 1.5, 0.5\n",
      "Computando CV para 2.0, 0.5\n",
      "Computando CV para 0.4, 0.5\n",
      "Computando CV para 0.5, 0.5\n",
      "Computando CV para 0.6, 0.5\n",
      "Computando CV para 0.75, 0.5\n",
      "Computando CV para 1.0, 0.5\n",
      "Computando CV para 1.25, 0.5\n",
      "Computando CV para 1.5, 0.5\n",
      "Computando CV para 2.0, 0.5\n",
      "Computando CV para 0.4, 0.5\n",
      "Computando CV para 0.5, 0.5\n",
      "Computando CV para 0.6, 0.5\n",
      "Computando CV para 0.75, 0.5\n",
      "Computando CV para 1.0, 0.5\n",
      "Computando CV para 1.25, 0.5\n",
      "Computando CV para 1.5, 0.5\n",
      "Computando CV para 2.0, 0.5\n"
     ]
    }
   ],
   "source": [
    "# Numero de estimadores usados en el ensemble\n",
    "n_values = [40, 50, 60, 75, 100, 125, 150, 175, 200, 400]\n",
    "\n",
    "# Valores para el learning rate\n",
    "lr_values = [0.4, 0.5, 0.6, 0.75, 1.0, 1.25, 1.5, 2.0]\n",
    "\n",
    "# Diccionario en el que vamos a guardar los resultados de CV\n",
    "results = dict()\n",
    "\n",
    "# Para hacer 5 fold cross validation\n",
    "cv = ShuffleSplit(n_splits=10, test_size=0.2, random_state=RANDOM_SEED)\n",
    "\n",
    "# Para precomputar la mejor combinacion de parametros\n",
    "best_parameters = {\n",
    "    \"lr\": None,\n",
    "    \"n\": None,\n",
    "}\n",
    "best_acc = 0.0\n",
    "\n",
    "# Probamos con todas las combinaciones de parametros\n",
    "for n in n_values:\n",
    "    for lr in lr_values:\n",
    "        \n",
    "        # Para ver el proceso de ejecucion\n",
    "        print(f\"Computando CV para {lr}, {alpha}\")\n",
    "        \n",
    "        # Definimos el clasificador, usando los parametros que movemos y fijando\n",
    "        # el resto de parametros necesarios\n",
    "        clf = AdaBoostClassifier(\n",
    "            n_estimators = n,\n",
    "            learning_rate = lr,\n",
    "            random_state = RANDOM_SEED\n",
    "        )\n",
    "        \n",
    "        # Aplicamos el algoritmo \n",
    "        scores = cross_val_score(clf, X_train, Y_train, cv=cv, scoring='accuracy')\n",
    "        \n",
    "        # Guardamos los resultados\n",
    "        results[lr, n, \"mean\"] = scores.mean()\n",
    "        results[lr, n, \"std\"] = scores.std()\n",
    "        \n",
    "        # Comprobamos si hemos mejorado los resultados\n",
    "        if results[lr, n, \"mean\"] > best_acc:\n",
    "            best_acc = results[lr, n, \"mean\"]\n",
    "            best_parameters = {\n",
    "                \"lr\": lr,\n",
    "                \"n\": n\n",
    "            }"
   ]
  },
  {
   "cell_type": "markdown",
   "id": "e534776d-737e-4695-aa4f-a883d46c8e79",
   "metadata": {},
   "source": [
    "Mostramos todos los parámetros con sus métricas alcanzadas:"
   ]
  },
  {
   "cell_type": "code",
   "execution_count": 39,
   "id": "a759d014-d753-4c10-8ef8-3b8bc2ed0d8c",
   "metadata": {},
   "outputs": [
    {
     "name": "stdout",
     "output_type": "stream",
     "text": [
      "{(0.4, 40, 'mean'): 0.7028169014084507,\n",
      " (0.4, 40, 'std'): 0.036156331416882924,\n",
      " (0.4, 50, 'mean'): 0.7049295774647888,\n",
      " (0.4, 50, 'std'): 0.03989298320639026,\n",
      " (0.4, 60, 'mean'): 0.6985915492957747,\n",
      " (0.4, 60, 'std'): 0.04079647424777532,\n",
      " (0.4, 75, 'mean'): 0.6894366197183099,\n",
      " (0.4, 75, 'std'): 0.02807201609576726,\n",
      " (0.4, 100, 'mean'): 0.6809859154929577,\n",
      " (0.4, 100, 'std'): 0.03348589698019362,\n",
      " (0.4, 125, 'mean'): 0.6816901408450704,\n",
      " (0.4, 125, 'std'): 0.03403674922139315,\n",
      " (0.4, 150, 'mean'): 0.6725352112676056,\n",
      " (0.4, 150, 'std'): 0.03482178961993273,\n",
      " (0.4, 175, 'mean'): 0.676056338028169,\n",
      " (0.4, 175, 'std'): 0.03805424249607408,\n",
      " (0.4, 200, 'mean'): 0.671830985915493,\n",
      " (0.4, 200, 'std'): 0.03335977262627328,\n",
      " (0.4, 400, 'mean'): 0.6598591549295774,\n",
      " (0.4, 400, 'std'): 0.03465046366237336,\n",
      " (0.5, 40, 'mean'): 0.6922535211267605,\n",
      " (0.5, 40, 'std'): 0.03392729428294621,\n",
      " (0.5, 50, 'mean'): 0.6929577464788732,\n",
      " (0.5, 50, 'std'): 0.033655783508024006,\n",
      " (0.5, 60, 'mean'): 0.6922535211267605,\n",
      " (0.5, 60, 'std'): 0.030051532807537844,\n",
      " (0.5, 75, 'mean'): 0.6816901408450704,\n",
      " (0.5, 75, 'std'): 0.037502892832941837,\n",
      " (0.5, 100, 'mean'): 0.680281690140845,\n",
      " (0.5, 100, 'std'): 0.03409498151242313,\n",
      " (0.5, 125, 'mean'): 0.6725352112676057,\n",
      " (0.5, 125, 'std'): 0.031690140845070436,\n",
      " (0.5, 150, 'mean'): 0.6633802816901408,\n",
      " (0.5, 150, 'std'): 0.03344885094940258,\n",
      " (0.5, 175, 'mean'): 0.663380281690141,\n",
      " (0.5, 175, 'std'): 0.03588095550100563,\n",
      " (0.5, 200, 'mean'): 0.6690140845070423,\n",
      " (0.5, 200, 'std'): 0.03133604994547465,\n",
      " (0.5, 400, 'mean'): 0.6612676056338029,\n",
      " (0.5, 400, 'std'): 0.04300390039654092,\n",
      " (0.6, 40, 'mean'): 0.6950704225352112,\n",
      " (0.6, 40, 'std'): 0.038449672379489284,\n",
      " (0.6, 50, 'mean'): 0.6859154929577465,\n",
      " (0.6, 50, 'std'): 0.03438466370629212,\n",
      " (0.6, 60, 'mean'): 0.6816901408450704,\n",
      " (0.6, 60, 'std'): 0.028830266887970017,\n",
      " (0.6, 75, 'mean'): 0.673943661971831,\n",
      " (0.6, 75, 'std'): 0.024808330920857095,\n",
      " (0.6, 100, 'mean'): 0.671830985915493,\n",
      " (0.6, 100, 'std'): 0.02503716737271996,\n",
      " (0.6, 125, 'mean'): 0.6676056338028169,\n",
      " (0.6, 125, 'std'): 0.036293235849929925,\n",
      " (0.6, 150, 'mean'): 0.6647887323943662,\n",
      " (0.6, 150, 'std'): 0.032910764635346264,\n",
      " (0.6, 175, 'mean'): 0.6626760563380282,\n",
      " (0.6, 175, 'std'): 0.03172142430860623,\n",
      " (0.6, 200, 'mean'): 0.6605633802816901,\n",
      " (0.6, 200, 'std'): 0.026871526800477354,\n",
      " (0.6, 400, 'mean'): 0.6577464788732393,\n",
      " (0.6, 400, 'std'): 0.04630783724724956,\n",
      " (0.75, 40, 'mean'): 0.6830985915492958,\n",
      " (0.75, 40, 'std'): 0.03535183210707361,\n",
      " (0.75, 50, 'mean'): 0.671830985915493,\n",
      " (0.75, 50, 'std'): 0.0342401289609668,\n",
      " (0.75, 60, 'mean'): 0.6788732394366197,\n",
      " (0.75, 60, 'std'): 0.0342401289609668,\n",
      " (0.75, 75, 'mean'): 0.6781690140845071,\n",
      " (0.75, 75, 'std'): 0.035915492957746466,\n",
      " (0.75, 100, 'mean'): 0.6711267605633802,\n",
      " (0.75, 100, 'std'): 0.045644451896052964,\n",
      " (0.75, 125, 'mean'): 0.6612676056338028,\n",
      " (0.75, 125, 'std'): 0.046972411677893774,\n",
      " (0.75, 150, 'mean'): 0.6591549295774647,\n",
      " (0.75, 150, 'std'): 0.042975060006739035,\n",
      " (0.75, 175, 'mean'): 0.6570422535211267,\n",
      " (0.75, 175, 'std'): 0.0395935008362552,\n",
      " (0.75, 200, 'mean'): 0.6577464788732394,\n",
      " (0.75, 200, 'std'): 0.0409663086542225,\n",
      " (0.75, 400, 'mean'): 0.6507042253521126,\n",
      " (0.75, 400, 'std'): 0.03621115530192238,\n",
      " (1.0, 40, 'mean'): 0.6795774647887325,\n",
      " (1.0, 40, 'std'): 0.029078623693045876,\n",
      " (1.0, 50, 'mean'): 0.6887323943661972,\n",
      " (1.0, 50, 'std'): 0.028484152698812236,\n",
      " (1.0, 60, 'mean'): 0.6746478873239437,\n",
      " (1.0, 60, 'std'): 0.03601890662688569,\n",
      " (1.0, 75, 'mean'): 0.6732394366197184,\n",
      " (1.0, 75, 'std'): 0.03986189210728142,\n",
      " (1.0, 100, 'mean'): 0.6690140845070423,\n",
      " (1.0, 100, 'std'): 0.03303109690016501,\n",
      " (1.0, 125, 'mean'): 0.6647887323943663,\n",
      " (1.0, 125, 'std'): 0.030076276766285364,\n",
      " (1.0, 150, 'mean'): 0.6528169014084507,\n",
      " (1.0, 150, 'std'): 0.027644769614634527,\n",
      " (1.0, 175, 'mean'): 0.6485915492957747,\n",
      " (1.0, 175, 'std'): 0.02586530658057319,\n",
      " (1.0, 200, 'mean'): 0.6570422535211268,\n",
      " (1.0, 200, 'std'): 0.026732750557890574,\n",
      " (1.0, 400, 'mean'): 0.654225352112676,\n",
      " (1.0, 400, 'std'): 0.033839475427419614,\n",
      " (1.25, 40, 'mean'): 0.6767605633802817,\n",
      " (1.25, 40, 'std'): 0.040140845070422544,\n",
      " (1.25, 50, 'mean'): 0.6767605633802817,\n",
      " (1.25, 50, 'std'): 0.03156469694509152,\n",
      " (1.25, 60, 'mean'): 0.6711267605633803,\n",
      " (1.25, 60, 'std'): 0.034073156065923794,\n",
      " (1.25, 75, 'mean'): 0.6767605633802817,\n",
      " (1.25, 75, 'std'): 0.03583254713579874,\n",
      " (1.25, 100, 'mean'): 0.6753521126760564,\n",
      " (1.25, 100, 'std'): 0.03837220486147966,\n",
      " (1.25, 125, 'mean'): 0.671830985915493,\n",
      " (1.25, 125, 'std'): 0.03260799127546542,\n",
      " (1.25, 150, 'mean'): 0.6640845070422535,\n",
      " (1.25, 150, 'std'): 0.024405244297413305,\n",
      " (1.25, 175, 'mean'): 0.6605633802816901,\n",
      " (1.25, 175, 'std'): 0.026312030552492118,\n",
      " (1.25, 200, 'mean'): 0.6549295774647887,\n",
      " (1.25, 200, 'std'): 0.035770211547043074,\n",
      " (1.25, 400, 'mean'): 0.6556338028169015,\n",
      " (1.25, 400, 'std'): 0.04026420382795155,\n",
      " (1.5, 40, 'mean'): 0.6816901408450705,\n",
      " (1.5, 40, 'std'): 0.029341784022534737,\n",
      " (1.5, 50, 'mean'): 0.6760563380281691,\n",
      " (1.5, 50, 'std'): 0.03117738538194177,\n",
      " (1.5, 60, 'mean'): 0.6767605633802817,\n",
      " (1.5, 60, 'std'): 0.033248089110177126,\n",
      " (1.5, 75, 'mean'): 0.6704225352112677,\n",
      " (1.5, 75, 'std'): 0.02593232766129854,\n",
      " (1.5, 100, 'mean'): 0.6640845070422535,\n",
      " (1.5, 100, 'std'): 0.022938728837890596,\n",
      " (1.5, 125, 'mean'): 0.6647887323943662,\n",
      " (1.5, 125, 'std'): 0.028553711172835616,\n",
      " (1.5, 150, 'mean'): 0.654225352112676,\n",
      " (1.5, 150, 'std'): 0.0292825674454814,\n",
      " (1.5, 175, 'mean'): 0.6591549295774648,\n",
      " (1.5, 175, 'std'): 0.024838298716265337,\n",
      " (1.5, 200, 'mean'): 0.652112676056338,\n",
      " (1.5, 200, 'std'): 0.02694524854888589,\n",
      " (1.5, 400, 'mean'): 0.6619718309859154,\n",
      " (1.5, 400, 'std'): 0.03672790087438113,\n",
      " (2.0, 40, 'mean'): 0.4943661971830986,\n",
      " (2.0, 40, 'std'): 0.06097143893496721,\n",
      " (2.0, 50, 'mean'): 0.4901408450704226,\n",
      " (2.0, 50, 'std'): 0.061650897544336024,\n",
      " (2.0, 60, 'mean'): 0.4873239436619718,\n",
      " (2.0, 60, 'std'): 0.06429697020007509,\n",
      " (2.0, 75, 'mean'): 0.6330985915492958,\n",
      " (2.0, 75, 'std'): 0.04183477955008209,\n",
      " (2.0, 100, 'mean'): 0.4697183098591549,\n",
      " (2.0, 100, 'std'): 0.06423909539144344,\n",
      " (2.0, 125, 'mean'): 0.645774647887324,\n",
      " (2.0, 125, 'std'): 0.0293840085141198,\n",
      " (2.0, 150, 'mean'): 0.4507042253521127,\n",
      " (2.0, 150, 'std'): 0.05146148142660595,\n",
      " (2.0, 175, 'mean'): 0.6556338028169014,\n",
      " (2.0, 175, 'std'): 0.04075390505980362,\n",
      " (2.0, 200, 'mean'): 0.4683098591549296,\n",
      " (2.0, 200, 'std'): 0.06425453377075585,\n",
      " (2.0, 400, 'mean'): 0.5880281690140845,\n",
      " (2.0, 400, 'std'): 0.06836791492587183}\n"
     ]
    }
   ],
   "source": [
    "pprint(results)"
   ]
  },
  {
   "cell_type": "markdown",
   "id": "5de852c9-0902-46f5-b530-12e11e4b42ee",
   "metadata": {},
   "source": [
    "Tomamos ahora la mejor combinación de parámetros:"
   ]
  },
  {
   "cell_type": "code",
   "execution_count": 40,
   "id": "9072c3f6-3d12-4089-b86f-46052d299f83",
   "metadata": {},
   "outputs": [
    {
     "name": "stdout",
     "output_type": "stream",
     "text": [
      "{'lr': 0.4, 'n': 50}\n",
      "0.7049295774647888\n"
     ]
    }
   ],
   "source": [
    "print(best_parameters)\n",
    "print(best_acc)"
   ]
  },
  {
   "cell_type": "markdown",
   "id": "75078160-dbcc-4bc7-8412-f6d649d453f9",
   "metadata": {},
   "source": [
    "# Entrenamiento usando los mejores parámetros"
   ]
  },
  {
   "cell_type": "markdown",
   "id": "11646047-b3d7-459f-807d-4f24ac598b7c",
   "metadata": {},
   "source": [
    "## Función para evaluar las clasificaciones"
   ]
  },
  {
   "cell_type": "code",
   "execution_count": 41,
   "id": "a028d10b-4870-413c-b003-088d2bc2606d",
   "metadata": {},
   "outputs": [],
   "source": [
    "def display_classification_metrics(X_train, Y_train, X_test, Y_test, model = clf, outputs_prob = False):\n",
    "    \"\"\"Muestra algunas metricas en clasificacion\"\"\"\n",
    "    metrics = dict()\n",
    "    \n",
    "    # Realizamos las predicciones\n",
    "    predicted_training = clf.predict(X_train)\n",
    "    predicted_test = clf.predict(X_test)\n",
    "    \n",
    "    # Accuracy obtenido\n",
    "    metrics[\"train_acc\"] = clf.score(X_train, Y_train)\n",
    "    metrics[\"test_acc\"]= clf.score(X_test, Y_test)\n",
    "    \n",
    "    # Calculamos el valor de F1\n",
    "    metrics[\"train_f1\"] = f1_score(Y_train, predicted_training, average='macro')\n",
    "    metrics[\"test_f1\"] = f1_score(Y_test, predicted_test, average='macro')\n",
    "\n",
    "    # Calculamos el area bajo la curva ROC\n",
    "    if outputs_prob is False:\n",
    "        metrics[\"train_roc_auc\"] = roc_auc_score(Y_train, clf.decision_function(X_train))\n",
    "        metrics[\"test_roc_auc\"] = roc_auc_score(Y_test, clf.decision_function(X_test))\n",
    "    else:\n",
    "        metrics[\"train_roc_auc\"] = roc_auc_score(Y_train, clf.predict_proba(X_train)[:, 1])\n",
    "        metrics[\"test_roc_auc\"] = roc_auc_score(Y_test, clf.predict_proba(X_test)[:, 1])\n",
    "        \n",
    "    # Mostramos las metricas\n",
    "    print(\"Metricas obtenidas:\")\n",
    "    pprint(metrics)\n",
    "    print(\"\")\n",
    "    \n",
    "    # Mostramos las matrices de confusion\n",
    "    print(\"Matriz de confusion en training:\")\n",
    "    matrix_train = confusion_matrix(Y_train, predicted_training)\n",
    "    pprint(matrix_train)\n",
    "    print(\"\")\n",
    "\n",
    "    print(\"Matriz de confusion en test:\")\n",
    "    matrix_test = confusion_matrix(Y_test, predicted_test)\n",
    "    pprint(matrix_test)\n",
    "    print(\"\")"
   ]
  },
  {
   "cell_type": "markdown",
   "id": "54ee5eb2-273a-4169-b9cd-e24ff1e3779a",
   "metadata": {},
   "source": [
    "Una vez que, con *Cross Validation*, hemos explorado los posibles parámetros, procedemos a entrenar los modelos con los mejores parámetros encontrados usando ese procedimiento:"
   ]
  },
  {
   "cell_type": "markdown",
   "id": "133d9ae9-bef3-4ab9-a7f5-33c76dc2379b",
   "metadata": {
    "tags": []
   },
   "source": [
    "## Support Vector Machine"
   ]
  },
  {
   "cell_type": "code",
   "execution_count": 42,
   "id": "74a61657-8ab9-4faa-93ed-e06721341221",
   "metadata": {},
   "outputs": [
    {
     "name": "stdout",
     "output_type": "stream",
     "text": [
      "Accuracy en training: 0.768033946251768\n",
      "Accuracy en test: 0.715\n"
     ]
    }
   ],
   "source": [
    "# Definimos el modelo\n",
    "kernel = \"rbf\"\n",
    "C = 0.8\n",
    "clf = SVC(kernel=kernel, C=C, random_state=RANDOM_SEED)\n",
    "\n",
    "# Entrenamos con el training\n",
    "clf.fit(X_train, Y_train)\n",
    "\n",
    "# Evaluamos en ambos datasets\n",
    "Y_pred_training = clf.predict(X_train)\n",
    "Y_pred_test = clf.predict(X_test)\n",
    "\n",
    "print(f\"Accuracy en training: {clf.score(X_train, Y_train)}\")\n",
    "print(f\"Accuracy en test: {clf.score(X_test, Y_test)}\")"
   ]
  },
  {
   "cell_type": "markdown",
   "id": "9f34eddf-8643-413b-a273-f035f83e185e",
   "metadata": {},
   "source": [
    "Mostramos ahora métricas más avanzadas:"
   ]
  },
  {
   "cell_type": "code",
   "execution_count": 43,
   "id": "762429ac-dbd9-4a68-ab80-be6cdad10f9f",
   "metadata": {},
   "outputs": [
    {
     "name": "stdout",
     "output_type": "stream",
     "text": [
      "Metricas obtenidas:\n",
      "{'test_acc': 0.715,\n",
      " 'test_f1': 0.550455459600142,\n",
      " 'test_roc_auc': 0.7013095238095238,\n",
      " 'train_acc': 0.768033946251768,\n",
      " 'train_f1': 0.6267255588750387,\n",
      " 'train_roc_auc': 0.855623188405797}\n",
      "\n",
      "Matriz de confusion en training:\n",
      "array([[489,  11],\n",
      "       [153,  54]], dtype=int64)\n",
      "\n",
      "Matriz de confusion en test:\n",
      "array([[132,   8],\n",
      "       [ 49,  11]], dtype=int64)\n",
      "\n"
     ]
    }
   ],
   "source": [
    "display_classification_metrics(X_train, Y_train, X_test, Y_test, model = clf)"
   ]
  },
  {
   "cell_type": "markdown",
   "id": "bb5e48fc-b587-4d41-a2fa-37ac3eda9f6d",
   "metadata": {
    "tags": []
   },
   "source": [
    "## MLP"
   ]
  },
  {
   "cell_type": "code",
   "execution_count": 44,
   "id": "6ba7e79b-47d4-48e5-90ea-9b4c10835218",
   "metadata": {},
   "outputs": [
    {
     "name": "stdout",
     "output_type": "stream",
     "text": [
      "Accuracy en training: 0.7086280056577087\n",
      "Accuracy en test: 0.7\n"
     ]
    }
   ],
   "source": [
    "# Definimos el modelo\n",
    "clf = MLPClassifier(\n",
    "    activation = \"relu\",\n",
    "    solver = \"adam\",\n",
    "    learning_rate_init = 0.001,\n",
    "    alpha = 0.001,\n",
    "    max_iter = 10,\n",
    "    random_state = RANDOM_SEED\n",
    ")\n",
    "\n",
    "# Entrenamos con el training\n",
    "clf.fit(X_train, Y_train)\n",
    "\n",
    "# Evaluamos en ambos datasets\n",
    "Y_pred_training = clf.predict(X_train)\n",
    "Y_pred_test = clf.predict(X_test)\n",
    "\n",
    "print(f\"Accuracy en training: {clf.score(X_train, Y_train)}\")\n",
    "print(f\"Accuracy en test: {clf.score(X_test, Y_test)}\")"
   ]
  },
  {
   "cell_type": "markdown",
   "id": "78ba61ac-7366-4e1b-ab32-3857850d0365",
   "metadata": {},
   "source": [
    "Mostramos ahora métricas más avanzadas:"
   ]
  },
  {
   "cell_type": "code",
   "execution_count": 45,
   "id": "4c8f4816-13c2-4949-87e8-4a12997e30b0",
   "metadata": {},
   "outputs": [
    {
     "name": "stdout",
     "output_type": "stream",
     "text": [
      "Metricas obtenidas:\n",
      "{'test_acc': 0.7,\n",
      " 'test_f1': 0.4117647058823529,\n",
      " 'test_roc_auc': 0.6491666666666667,\n",
      " 'train_acc': 0.7086280056577087,\n",
      " 'train_f1': 0.41940139048348,\n",
      " 'train_roc_auc': 0.6944927536231884}\n",
      "\n",
      "Matriz de confusion en training:\n",
      "array([[500,   0],\n",
      "       [206,   1]], dtype=int64)\n",
      "\n",
      "Matriz de confusion en test:\n",
      "array([[140,   0],\n",
      "       [ 60,   0]], dtype=int64)\n",
      "\n"
     ]
    }
   ],
   "source": [
    "display_classification_metrics(X_train, Y_train, X_test, Y_test, model = clf, outputs_prob = True)"
   ]
  },
  {
   "cell_type": "markdown",
   "id": "893a60f0-c30c-413d-8bab-3182a77e2da1",
   "metadata": {
    "tags": []
   },
   "source": [
    "## AdaBoost"
   ]
  },
  {
   "cell_type": "code",
   "execution_count": 46,
   "id": "61aa7ff2-d61a-4415-9b0f-3243423b7d50",
   "metadata": {},
   "outputs": [
    {
     "name": "stdout",
     "output_type": "stream",
     "text": [
      "Accuracy en training: 0.7821782178217822\n",
      "Accuracy en test: 0.705\n"
     ]
    }
   ],
   "source": [
    "# Definimos el modelo\n",
    "clf = AdaBoostClassifier(\n",
    "    n_estimators = 50,\n",
    "    learning_rate = 0.4,\n",
    "    random_state = RANDOM_SEED\n",
    ")\n",
    "\n",
    "# Entrenamos con el training\n",
    "clf.fit(X_train, Y_train)\n",
    "\n",
    "# Evaluamos en ambos datasets\n",
    "Y_pred_training = clf.predict(X_train)\n",
    "Y_pred_test = clf.predict(X_test)\n",
    "\n",
    "print(f\"Accuracy en training: {clf.score(X_train, Y_train)}\")\n",
    "print(f\"Accuracy en test: {clf.score(X_test, Y_test)}\")"
   ]
  },
  {
   "cell_type": "markdown",
   "id": "bfe5aa22-631f-4fd6-8d2b-d6af497fbe80",
   "metadata": {},
   "source": [
    "Mostramos ahora métricas más avanzadas:"
   ]
  },
  {
   "cell_type": "code",
   "execution_count": 47,
   "id": "f19b8f6b-39f3-4706-9198-410ebd1ed8b2",
   "metadata": {},
   "outputs": [
    {
     "name": "stdout",
     "output_type": "stream",
     "text": [
      "Metricas obtenidas:\n",
      "{'test_acc': 0.705,\n",
      " 'test_f1': 0.5927523727351165,\n",
      " 'test_roc_auc': 0.7205357142857143,\n",
      " 'train_acc': 0.7821782178217822,\n",
      " 'train_f1': 0.6709918773872263,\n",
      " 'train_roc_auc': 0.8249468599033816}\n",
      "\n",
      "Matriz de confusion en training:\n",
      "array([[482,  18],\n",
      "       [136,  71]], dtype=int64)\n",
      "\n",
      "Matriz de confusion en test:\n",
      "array([[123,  17],\n",
      "       [ 42,  18]], dtype=int64)\n",
      "\n"
     ]
    }
   ],
   "source": [
    "display_classification_metrics(X_train, Y_train, X_test, Y_test, model = clf)"
   ]
  },
  {
   "cell_type": "markdown",
   "id": "822a1d1b-1f48-4111-aec4-ef990fd714a9",
   "metadata": {},
   "source": [
    "Por tanto, estamos viendo los mismos resultados que sin aplicar PCA. No hemos mejorado enormemente las métricas, pero estamos trabajando con modelos muchísimo más simples, y por tatno mucho más generalizables y robustos"
   ]
  }
 ],
 "metadata": {
  "kernelspec": {
   "display_name": "Python 3 (ipykernel)",
   "language": "python",
   "name": "python3"
  },
  "language_info": {
   "codemirror_mode": {
    "name": "ipython",
    "version": 3
   },
   "file_extension": ".py",
   "mimetype": "text/x-python",
   "name": "python",
   "nbconvert_exporter": "python",
   "pygments_lexer": "ipython3",
   "version": "3.9.2"
  }
 },
 "nbformat": 4,
 "nbformat_minor": 5
}
